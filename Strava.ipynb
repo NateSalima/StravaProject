{
 "cells": [
  {
   "cell_type": "markdown",
   "metadata": {},
   "source": [
    "# Strava Data Project"
   ]
  },
  {
   "cell_type": "markdown",
   "metadata": {},
   "source": [
    "Import necessary libraries"
   ]
  },
  {
   "cell_type": "code",
   "execution_count": 38,
   "metadata": {},
   "outputs": [],
   "source": [
    "import pandas as pd\n",
    "import numpy as np\n",
    "import psycopg2\n",
    "import calendar\n",
    "import os\n",
    "import json\n",
    "import seaborn as sns\n",
    "import matplotlib.pyplot as plt\n",
    "import datetime as dt\n",
    "from sqlalchemy import create_engine\n",
    "import ipywidgets as widgets\n",
    "from ipywidgets import interact, interact_manual"
   ]
  },
  {
   "cell_type": "code",
   "execution_count": 39,
   "metadata": {},
   "outputs": [],
   "source": [
    "ROOT_DIR = os.path.dirname(os.path.abspath('Strava.ipynb'))\n",
    "\n",
    "json_file = open(os.path.join(ROOT_DIR, 'strava_config1.json'), 'r')\n",
    "json_str = json_file.read()\n",
    "\n",
    "redshift_info = json.loads(json_str)['redshift_credentials']\n",
    "\n",
    "db_name = redshift_info['db_name']\n",
    "iam_user = redshift_info['iam_user']\n",
    "iam_password = redshift_info['iam_password']\n",
    "endpoint = redshift_info['endpoint']\n",
    "table_name = redshift_info['table_name']"
   ]
  },
  {
   "cell_type": "markdown",
   "metadata": {},
   "source": [
    "Put table from Redshift into a dataframe"
   ]
  },
  {
   "cell_type": "code",
   "execution_count": 40,
   "metadata": {},
   "outputs": [],
   "source": [
    "engine = create_engine(f'redshift+psycopg2://{iam_user}:{iam_password}@{endpoint}/{db_name}')\n",
    "df = pd.read_sql_query(f'SELECT * FROM public.{table_name} ORDER BY start_date DESC',con=engine)"
   ]
  },
  {
   "cell_type": "markdown",
   "metadata": {},
   "source": [
    "## Lets Take An Initial Look At The Data"
   ]
  },
  {
   "cell_type": "code",
   "execution_count": 41,
   "metadata": {},
   "outputs": [
    {
     "data": {
      "text/html": [
       "<div>\n",
       "<style scoped>\n",
       "    .dataframe tbody tr th:only-of-type {\n",
       "        vertical-align: middle;\n",
       "    }\n",
       "\n",
       "    .dataframe tbody tr th {\n",
       "        vertical-align: top;\n",
       "    }\n",
       "\n",
       "    .dataframe thead th {\n",
       "        text-align: right;\n",
       "    }\n",
       "</style>\n",
       "<table border=\"1\" class=\"dataframe\">\n",
       "  <thead>\n",
       "    <tr style=\"text-align: right;\">\n",
       "      <th></th>\n",
       "      <th>id</th>\n",
       "      <th>name</th>\n",
       "      <th>start_date</th>\n",
       "      <th>average_speed_ms</th>\n",
       "      <th>distance_km</th>\n",
       "      <th>elapsed_time_min</th>\n",
       "      <th>total_elevation_gain_m</th>\n",
       "      <th>type</th>\n",
       "      <th>manual_entry</th>\n",
       "    </tr>\n",
       "  </thead>\n",
       "  <tbody>\n",
       "    <tr>\n",
       "      <th>0</th>\n",
       "      <td>3217952831</td>\n",
       "      <td>I don't do it because it's easy, I do it becau...</td>\n",
       "      <td>2020-03-25 18:42:57</td>\n",
       "      <td>3.73</td>\n",
       "      <td>19.4</td>\n",
       "      <td>86</td>\n",
       "      <td>162.0</td>\n",
       "      <td>Run</td>\n",
       "      <td>False</td>\n",
       "    </tr>\n",
       "    <tr>\n",
       "      <th>1</th>\n",
       "      <td>3214321630</td>\n",
       "      <td>An alpha meerkat will piss on other meerkats t...</td>\n",
       "      <td>2020-03-24 18:14:42</td>\n",
       "      <td>3.83</td>\n",
       "      <td>19.7</td>\n",
       "      <td>85</td>\n",
       "      <td>81.0</td>\n",
       "      <td>Run</td>\n",
       "      <td>False</td>\n",
       "    </tr>\n",
       "    <tr>\n",
       "      <th>2</th>\n",
       "      <td>3211462218</td>\n",
       "      <td>If today was your last day...</td>\n",
       "      <td>2020-03-23 21:26:55</td>\n",
       "      <td>3.62</td>\n",
       "      <td>17.1</td>\n",
       "      <td>78</td>\n",
       "      <td>75.0</td>\n",
       "      <td>Run</td>\n",
       "      <td>False</td>\n",
       "    </tr>\n",
       "    <tr>\n",
       "      <th>3</th>\n",
       "      <td>3208333245</td>\n",
       "      <td>\"on your left\" *ignored* rinse and repeat</td>\n",
       "      <td>2020-03-22 18:17:14</td>\n",
       "      <td>1.87</td>\n",
       "      <td>8.3</td>\n",
       "      <td>73</td>\n",
       "      <td>975.0</td>\n",
       "      <td>Run</td>\n",
       "      <td>False</td>\n",
       "    </tr>\n",
       "    <tr>\n",
       "      <th>4</th>\n",
       "      <td>3204919571</td>\n",
       "      <td>With all this extra free time maybe people sho...</td>\n",
       "      <td>2020-03-21 20:31:33</td>\n",
       "      <td>3.70</td>\n",
       "      <td>12.3</td>\n",
       "      <td>55</td>\n",
       "      <td>47.0</td>\n",
       "      <td>Run</td>\n",
       "      <td>False</td>\n",
       "    </tr>\n",
       "    <tr>\n",
       "      <th>...</th>\n",
       "      <td>...</td>\n",
       "      <td>...</td>\n",
       "      <td>...</td>\n",
       "      <td>...</td>\n",
       "      <td>...</td>\n",
       "      <td>...</td>\n",
       "      <td>...</td>\n",
       "      <td>...</td>\n",
       "      <td>...</td>\n",
       "    </tr>\n",
       "    <tr>\n",
       "      <th>1700</th>\n",
       "      <td>607726595</td>\n",
       "      <td>Morning Run</td>\n",
       "      <td>2016-05-20 18:15:13</td>\n",
       "      <td>2.99</td>\n",
       "      <td>24.3</td>\n",
       "      <td>135</td>\n",
       "      <td>235.0</td>\n",
       "      <td>Run</td>\n",
       "      <td>False</td>\n",
       "    </tr>\n",
       "    <tr>\n",
       "      <th>1701</th>\n",
       "      <td>607726584</td>\n",
       "      <td>Afternoon Run</td>\n",
       "      <td>2016-05-18 21:21:11</td>\n",
       "      <td>3.76</td>\n",
       "      <td>4.8</td>\n",
       "      <td>21</td>\n",
       "      <td>84.0</td>\n",
       "      <td>Run</td>\n",
       "      <td>False</td>\n",
       "    </tr>\n",
       "    <tr>\n",
       "      <th>1702</th>\n",
       "      <td>607726597</td>\n",
       "      <td>Lunch Run</td>\n",
       "      <td>2016-05-16 20:42:08</td>\n",
       "      <td>3.59</td>\n",
       "      <td>12.6</td>\n",
       "      <td>58</td>\n",
       "      <td>170.0</td>\n",
       "      <td>Run</td>\n",
       "      <td>False</td>\n",
       "    </tr>\n",
       "    <tr>\n",
       "      <th>1703</th>\n",
       "      <td>607726580</td>\n",
       "      <td>Afternoon Ride</td>\n",
       "      <td>2016-05-12 22:05:14</td>\n",
       "      <td>7.01</td>\n",
       "      <td>24.8</td>\n",
       "      <td>58</td>\n",
       "      <td>194.0</td>\n",
       "      <td>Ride</td>\n",
       "      <td>False</td>\n",
       "    </tr>\n",
       "    <tr>\n",
       "      <th>1704</th>\n",
       "      <td>607726565</td>\n",
       "      <td>Evening Run</td>\n",
       "      <td>2016-05-12 03:44:17</td>\n",
       "      <td>3.56</td>\n",
       "      <td>12.6</td>\n",
       "      <td>59</td>\n",
       "      <td>175.0</td>\n",
       "      <td>Run</td>\n",
       "      <td>False</td>\n",
       "    </tr>\n",
       "  </tbody>\n",
       "</table>\n",
       "<p>1705 rows × 9 columns</p>\n",
       "</div>"
      ],
      "text/plain": [
       "              id                                               name  \\\n",
       "0     3217952831  I don't do it because it's easy, I do it becau...   \n",
       "1     3214321630  An alpha meerkat will piss on other meerkats t...   \n",
       "2     3211462218                      If today was your last day...   \n",
       "3     3208333245          \"on your left\" *ignored* rinse and repeat   \n",
       "4     3204919571  With all this extra free time maybe people sho...   \n",
       "...          ...                                                ...   \n",
       "1700   607726595                                        Morning Run   \n",
       "1701   607726584                                      Afternoon Run   \n",
       "1702   607726597                                          Lunch Run   \n",
       "1703   607726580                                     Afternoon Ride   \n",
       "1704   607726565                                        Evening Run   \n",
       "\n",
       "              start_date  average_speed_ms  distance_km  elapsed_time_min  \\\n",
       "0    2020-03-25 18:42:57              3.73         19.4                86   \n",
       "1    2020-03-24 18:14:42              3.83         19.7                85   \n",
       "2    2020-03-23 21:26:55              3.62         17.1                78   \n",
       "3    2020-03-22 18:17:14              1.87          8.3                73   \n",
       "4    2020-03-21 20:31:33              3.70         12.3                55   \n",
       "...                  ...               ...          ...               ...   \n",
       "1700 2016-05-20 18:15:13              2.99         24.3               135   \n",
       "1701 2016-05-18 21:21:11              3.76          4.8                21   \n",
       "1702 2016-05-16 20:42:08              3.59         12.6                58   \n",
       "1703 2016-05-12 22:05:14              7.01         24.8                58   \n",
       "1704 2016-05-12 03:44:17              3.56         12.6                59   \n",
       "\n",
       "      total_elevation_gain_m  type  manual_entry  \n",
       "0                      162.0   Run         False  \n",
       "1                       81.0   Run         False  \n",
       "2                       75.0   Run         False  \n",
       "3                      975.0   Run         False  \n",
       "4                       47.0   Run         False  \n",
       "...                      ...   ...           ...  \n",
       "1700                   235.0   Run         False  \n",
       "1701                    84.0   Run         False  \n",
       "1702                   170.0   Run         False  \n",
       "1703                   194.0  Ride         False  \n",
       "1704                   175.0   Run         False  \n",
       "\n",
       "[1705 rows x 9 columns]"
      ]
     },
     "execution_count": 41,
     "metadata": {},
     "output_type": "execute_result"
    }
   ],
   "source": [
    "df"
   ]
  },
  {
   "cell_type": "code",
   "execution_count": 42,
   "metadata": {},
   "outputs": [
    {
     "data": {
      "text/html": [
       "<div>\n",
       "<style scoped>\n",
       "    .dataframe tbody tr th:only-of-type {\n",
       "        vertical-align: middle;\n",
       "    }\n",
       "\n",
       "    .dataframe tbody tr th {\n",
       "        vertical-align: top;\n",
       "    }\n",
       "\n",
       "    .dataframe thead th {\n",
       "        text-align: right;\n",
       "    }\n",
       "</style>\n",
       "<table border=\"1\" class=\"dataframe\">\n",
       "  <thead>\n",
       "    <tr style=\"text-align: right;\">\n",
       "      <th></th>\n",
       "      <th>id</th>\n",
       "      <th>average_speed_ms</th>\n",
       "      <th>distance_km</th>\n",
       "      <th>elapsed_time_min</th>\n",
       "      <th>total_elevation_gain_m</th>\n",
       "    </tr>\n",
       "  </thead>\n",
       "  <tbody>\n",
       "    <tr>\n",
       "      <th>count</th>\n",
       "      <td>1.705000e+03</td>\n",
       "      <td>1705.000000</td>\n",
       "      <td>1705.000000</td>\n",
       "      <td>1705.000000</td>\n",
       "      <td>1705.000000</td>\n",
       "    </tr>\n",
       "    <tr>\n",
       "      <th>mean</th>\n",
       "      <td>1.701081e+09</td>\n",
       "      <td>3.295273</td>\n",
       "      <td>12.805337</td>\n",
       "      <td>70.074487</td>\n",
       "      <td>227.368563</td>\n",
       "    </tr>\n",
       "    <tr>\n",
       "      <th>std</th>\n",
       "      <td>7.498481e+08</td>\n",
       "      <td>0.939133</td>\n",
       "      <td>8.368517</td>\n",
       "      <td>57.875177</td>\n",
       "      <td>389.863113</td>\n",
       "    </tr>\n",
       "    <tr>\n",
       "      <th>min</th>\n",
       "      <td>6.065143e+08</td>\n",
       "      <td>0.000000</td>\n",
       "      <td>0.000000</td>\n",
       "      <td>1.000000</td>\n",
       "      <td>0.000000</td>\n",
       "    </tr>\n",
       "    <tr>\n",
       "      <th>25%</th>\n",
       "      <td>1.052707e+09</td>\n",
       "      <td>3.100000</td>\n",
       "      <td>7.300000</td>\n",
       "      <td>36.000000</td>\n",
       "      <td>30.500000</td>\n",
       "    </tr>\n",
       "    <tr>\n",
       "      <th>50%</th>\n",
       "      <td>1.559256e+09</td>\n",
       "      <td>3.460000</td>\n",
       "      <td>11.700000</td>\n",
       "      <td>62.000000</td>\n",
       "      <td>84.000000</td>\n",
       "    </tr>\n",
       "    <tr>\n",
       "      <th>75%</th>\n",
       "      <td>2.295682e+09</td>\n",
       "      <td>3.660000</td>\n",
       "      <td>16.100000</td>\n",
       "      <td>83.000000</td>\n",
       "      <td>198.000000</td>\n",
       "    </tr>\n",
       "    <tr>\n",
       "      <th>max</th>\n",
       "      <td>3.217953e+09</td>\n",
       "      <td>11.920000</td>\n",
       "      <td>103.400000</td>\n",
       "      <td>737.000000</td>\n",
       "      <td>4042.000000</td>\n",
       "    </tr>\n",
       "  </tbody>\n",
       "</table>\n",
       "</div>"
      ],
      "text/plain": [
       "                 id  average_speed_ms  distance_km  elapsed_time_min  \\\n",
       "count  1.705000e+03       1705.000000  1705.000000       1705.000000   \n",
       "mean   1.701081e+09          3.295273    12.805337         70.074487   \n",
       "std    7.498481e+08          0.939133     8.368517         57.875177   \n",
       "min    6.065143e+08          0.000000     0.000000          1.000000   \n",
       "25%    1.052707e+09          3.100000     7.300000         36.000000   \n",
       "50%    1.559256e+09          3.460000    11.700000         62.000000   \n",
       "75%    2.295682e+09          3.660000    16.100000         83.000000   \n",
       "max    3.217953e+09         11.920000   103.400000        737.000000   \n",
       "\n",
       "       total_elevation_gain_m  \n",
       "count             1705.000000  \n",
       "mean               227.368563  \n",
       "std                389.863113  \n",
       "min                  0.000000  \n",
       "25%                 30.500000  \n",
       "50%                 84.000000  \n",
       "75%                198.000000  \n",
       "max               4042.000000  "
      ]
     },
     "execution_count": 42,
     "metadata": {},
     "output_type": "execute_result"
    }
   ],
   "source": [
    "df.describe()"
   ]
  },
  {
   "cell_type": "code",
   "execution_count": 43,
   "metadata": {},
   "outputs": [
    {
     "data": {
      "text/plain": [
       "(1705, 9)"
      ]
     },
     "execution_count": 43,
     "metadata": {},
     "output_type": "execute_result"
    }
   ],
   "source": [
    "df.shape"
   ]
  },
  {
   "cell_type": "code",
   "execution_count": 44,
   "metadata": {
    "scrolled": false
   },
   "outputs": [
    {
     "data": {
      "image/png": "[encoded data removed]",
      "text/plain": [
       "<Figure size 792x576 with 1 Axes>"
      ]
     },
     "metadata": {},
     "output_type": "display_data"
    }
   ],
   "source": [
    "plt.style.use('fivethirtyeight')\n",
    "dimensions = (11, 8)\n",
    "fig, ax = plt.subplots(figsize=dimensions)\n",
    "sns.countplot(ax=ax, x=\"type\", data=df);"
   ]
  },
  {
   "cell_type": "code",
   "execution_count": 45,
   "metadata": {},
   "outputs": [
    {
     "data": {
      "text/plain": [
       "Run               1642\n",
       "Ride                36\n",
       "BackcountrySki      19\n",
       "Swim                 4\n",
       "AlpineSki            1\n",
       "NordicSki            1\n",
       "Crossfit             1\n",
       "Hike                 1\n",
       "Name: type, dtype: int64"
      ]
     },
     "execution_count": 45,
     "metadata": {},
     "output_type": "execute_result"
    }
   ],
   "source": [
    "df['type'].value_counts()"
   ]
  },
  {
   "cell_type": "markdown",
   "metadata": {},
   "source": [
    "### Lets focus on the running data since there isn't substantial data on other activities"
   ]
  },
  {
   "cell_type": "code",
   "execution_count": 46,
   "metadata": {},
   "outputs": [],
   "source": [
    "df = df[df.type == 'Run']"
   ]
  },
  {
   "cell_type": "code",
   "execution_count": 47,
   "metadata": {
    "scrolled": false
   },
   "outputs": [
    {
     "data": {
      "text/html": [
       "<div>\n",
       "<style scoped>\n",
       "    .dataframe tbody tr th:only-of-type {\n",
       "        vertical-align: middle;\n",
       "    }\n",
       "\n",
       "    .dataframe tbody tr th {\n",
       "        vertical-align: top;\n",
       "    }\n",
       "\n",
       "    .dataframe thead th {\n",
       "        text-align: right;\n",
       "    }\n",
       "</style>\n",
       "<table border=\"1\" class=\"dataframe\">\n",
       "  <thead>\n",
       "    <tr style=\"text-align: right;\">\n",
       "      <th></th>\n",
       "      <th>id</th>\n",
       "      <th>name</th>\n",
       "      <th>start_date</th>\n",
       "      <th>average_speed_ms</th>\n",
       "      <th>distance_km</th>\n",
       "      <th>elapsed_time_min</th>\n",
       "      <th>total_elevation_gain_m</th>\n",
       "      <th>type</th>\n",
       "      <th>manual_entry</th>\n",
       "    </tr>\n",
       "  </thead>\n",
       "  <tbody>\n",
       "    <tr>\n",
       "      <th>0</th>\n",
       "      <td>3217952831</td>\n",
       "      <td>I don't do it because it's easy, I do it becau...</td>\n",
       "      <td>2020-03-25 18:42:57</td>\n",
       "      <td>3.73</td>\n",
       "      <td>19.4</td>\n",
       "      <td>86</td>\n",
       "      <td>162.0</td>\n",
       "      <td>Run</td>\n",
       "      <td>False</td>\n",
       "    </tr>\n",
       "    <tr>\n",
       "      <th>1</th>\n",
       "      <td>3214321630</td>\n",
       "      <td>An alpha meerkat will piss on other meerkats t...</td>\n",
       "      <td>2020-03-24 18:14:42</td>\n",
       "      <td>3.83</td>\n",
       "      <td>19.7</td>\n",
       "      <td>85</td>\n",
       "      <td>81.0</td>\n",
       "      <td>Run</td>\n",
       "      <td>False</td>\n",
       "    </tr>\n",
       "    <tr>\n",
       "      <th>2</th>\n",
       "      <td>3211462218</td>\n",
       "      <td>If today was your last day...</td>\n",
       "      <td>2020-03-23 21:26:55</td>\n",
       "      <td>3.62</td>\n",
       "      <td>17.1</td>\n",
       "      <td>78</td>\n",
       "      <td>75.0</td>\n",
       "      <td>Run</td>\n",
       "      <td>False</td>\n",
       "    </tr>\n",
       "    <tr>\n",
       "      <th>3</th>\n",
       "      <td>3208333245</td>\n",
       "      <td>\"on your left\" *ignored* rinse and repeat</td>\n",
       "      <td>2020-03-22 18:17:14</td>\n",
       "      <td>1.87</td>\n",
       "      <td>8.3</td>\n",
       "      <td>73</td>\n",
       "      <td>975.0</td>\n",
       "      <td>Run</td>\n",
       "      <td>False</td>\n",
       "    </tr>\n",
       "    <tr>\n",
       "      <th>4</th>\n",
       "      <td>3204919571</td>\n",
       "      <td>With all this extra free time maybe people sho...</td>\n",
       "      <td>2020-03-21 20:31:33</td>\n",
       "      <td>3.70</td>\n",
       "      <td>12.3</td>\n",
       "      <td>55</td>\n",
       "      <td>47.0</td>\n",
       "      <td>Run</td>\n",
       "      <td>False</td>\n",
       "    </tr>\n",
       "    <tr>\n",
       "      <th>...</th>\n",
       "      <td>...</td>\n",
       "      <td>...</td>\n",
       "      <td>...</td>\n",
       "      <td>...</td>\n",
       "      <td>...</td>\n",
       "      <td>...</td>\n",
       "      <td>...</td>\n",
       "      <td>...</td>\n",
       "      <td>...</td>\n",
       "    </tr>\n",
       "    <tr>\n",
       "      <th>1699</th>\n",
       "      <td>607726601</td>\n",
       "      <td>Lunch Run</td>\n",
       "      <td>2016-05-22 20:00:23</td>\n",
       "      <td>3.47</td>\n",
       "      <td>13.7</td>\n",
       "      <td>65</td>\n",
       "      <td>336.0</td>\n",
       "      <td>Run</td>\n",
       "      <td>False</td>\n",
       "    </tr>\n",
       "    <tr>\n",
       "      <th>1700</th>\n",
       "      <td>607726595</td>\n",
       "      <td>Morning Run</td>\n",
       "      <td>2016-05-20 18:15:13</td>\n",
       "      <td>2.99</td>\n",
       "      <td>24.3</td>\n",
       "      <td>135</td>\n",
       "      <td>235.0</td>\n",
       "      <td>Run</td>\n",
       "      <td>False</td>\n",
       "    </tr>\n",
       "    <tr>\n",
       "      <th>1701</th>\n",
       "      <td>607726584</td>\n",
       "      <td>Afternoon Run</td>\n",
       "      <td>2016-05-18 21:21:11</td>\n",
       "      <td>3.76</td>\n",
       "      <td>4.8</td>\n",
       "      <td>21</td>\n",
       "      <td>84.0</td>\n",
       "      <td>Run</td>\n",
       "      <td>False</td>\n",
       "    </tr>\n",
       "    <tr>\n",
       "      <th>1702</th>\n",
       "      <td>607726597</td>\n",
       "      <td>Lunch Run</td>\n",
       "      <td>2016-05-16 20:42:08</td>\n",
       "      <td>3.59</td>\n",
       "      <td>12.6</td>\n",
       "      <td>58</td>\n",
       "      <td>170.0</td>\n",
       "      <td>Run</td>\n",
       "      <td>False</td>\n",
       "    </tr>\n",
       "    <tr>\n",
       "      <th>1704</th>\n",
       "      <td>607726565</td>\n",
       "      <td>Evening Run</td>\n",
       "      <td>2016-05-12 03:44:17</td>\n",
       "      <td>3.56</td>\n",
       "      <td>12.6</td>\n",
       "      <td>59</td>\n",
       "      <td>175.0</td>\n",
       "      <td>Run</td>\n",
       "      <td>False</td>\n",
       "    </tr>\n",
       "  </tbody>\n",
       "</table>\n",
       "<p>1642 rows × 9 columns</p>\n",
       "</div>"
      ],
      "text/plain": [
       "              id                                               name  \\\n",
       "0     3217952831  I don't do it because it's easy, I do it becau...   \n",
       "1     3214321630  An alpha meerkat will piss on other meerkats t...   \n",
       "2     3211462218                      If today was your last day...   \n",
       "3     3208333245          \"on your left\" *ignored* rinse and repeat   \n",
       "4     3204919571  With all this extra free time maybe people sho...   \n",
       "...          ...                                                ...   \n",
       "1699   607726601                                          Lunch Run   \n",
       "1700   607726595                                        Morning Run   \n",
       "1701   607726584                                      Afternoon Run   \n",
       "1702   607726597                                          Lunch Run   \n",
       "1704   607726565                                        Evening Run   \n",
       "\n",
       "              start_date  average_speed_ms  distance_km  elapsed_time_min  \\\n",
       "0    2020-03-25 18:42:57              3.73         19.4                86   \n",
       "1    2020-03-24 18:14:42              3.83         19.7                85   \n",
       "2    2020-03-23 21:26:55              3.62         17.1                78   \n",
       "3    2020-03-22 18:17:14              1.87          8.3                73   \n",
       "4    2020-03-21 20:31:33              3.70         12.3                55   \n",
       "...                  ...               ...          ...               ...   \n",
       "1699 2016-05-22 20:00:23              3.47         13.7                65   \n",
       "1700 2016-05-20 18:15:13              2.99         24.3               135   \n",
       "1701 2016-05-18 21:21:11              3.76          4.8                21   \n",
       "1702 2016-05-16 20:42:08              3.59         12.6                58   \n",
       "1704 2016-05-12 03:44:17              3.56         12.6                59   \n",
       "\n",
       "      total_elevation_gain_m type  manual_entry  \n",
       "0                      162.0  Run         False  \n",
       "1                       81.0  Run         False  \n",
       "2                       75.0  Run         False  \n",
       "3                      975.0  Run         False  \n",
       "4                       47.0  Run         False  \n",
       "...                      ...  ...           ...  \n",
       "1699                   336.0  Run         False  \n",
       "1700                   235.0  Run         False  \n",
       "1701                    84.0  Run         False  \n",
       "1702                   170.0  Run         False  \n",
       "1704                   175.0  Run         False  \n",
       "\n",
       "[1642 rows x 9 columns]"
      ]
     },
     "execution_count": 47,
     "metadata": {},
     "output_type": "execute_result"
    }
   ],
   "source": [
    "df"
   ]
  },
  {
   "cell_type": "markdown",
   "metadata": {},
   "source": [
    "## When do you run?"
   ]
  },
  {
   "cell_type": "markdown",
   "metadata": {},
   "source": [
    "### By Year"
   ]
  },
  {
   "cell_type": "markdown",
   "metadata": {},
   "source": [
    "As we can see it looks like the most activities were recorded in 2018"
   ]
  },
  {
   "cell_type": "code",
   "execution_count": 48,
   "metadata": {},
   "outputs": [
    {
     "name": "stderr",
     "output_type": "stream",
     "text": [
      "/usr/local/lib/python3.7/site-packages/ipykernel_launcher.py:1: SettingWithCopyWarning: \n",
      "A value is trying to be set on a copy of a slice from a DataFrame.\n",
      "Try using .loc[row_indexer,col_indexer] = value instead\n",
      "\n",
      "See the caveats in the documentation: https://pandas.pydata.org/pandas-docs/stable/user_guide/indexing.html#returning-a-view-versus-a-copy\n",
      "  \"\"\"Entry point for launching an IPython kernel.\n"
     ]
    },
    {
     "data": {
      "text/plain": [
       "<matplotlib.axes._subplots.AxesSubplot at 0x12da81850>"
      ]
     },
     "execution_count": 48,
     "metadata": {},
     "output_type": "execute_result"
    },
    {
     "data": {
      "image/png": "[encoded data removed]",
      "text/plain": [
       "<Figure size 792x576 with 1 Axes>"
      ]
     },
     "metadata": {},
     "output_type": "display_data"
    }
   ],
   "source": [
    "df['year'] = df['start_date'].dt.year\n",
    "fig, ax = plt.subplots(figsize=dimensions)\n",
    "sns.countplot(ax = ax, x=\"year\", data=df)"
   ]
  },
  {
   "cell_type": "markdown",
   "metadata": {},
   "source": [
    "but number of activities doesnt tell the whole story if we look at the overall time spent running has increased almost every year"
   ]
  },
  {
   "cell_type": "code",
   "execution_count": 49,
   "metadata": {},
   "outputs": [
    {
     "data": {
      "text/plain": [
       "<matplotlib.axes._subplots.AxesSubplot at 0x12ddc4510>"
      ]
     },
     "execution_count": 49,
     "metadata": {},
     "output_type": "execute_result"
    },
    {
     "data": {
      "image/png": "[encoded data removed]",
      "text/plain": [
       "<Figure size 792x576 with 1 Axes>"
      ]
     },
     "metadata": {},
     "output_type": "display_data"
    }
   ],
   "source": [
    "fig, ax = plt.subplots(figsize=dimensions)\n",
    "sns.barplot(ax =ax, x=\"year\", y=\"elapsed_time_min\", estimator =sum, data=df)"
   ]
  },
  {
   "cell_type": "markdown",
   "metadata": {},
   "source": [
    "We can see that years have stayed fairly consistent and that 2020 looks like it is on track to be the best year yet"
   ]
  },
  {
   "cell_type": "code",
   "execution_count": 50,
   "metadata": {},
   "outputs": [
    {
     "data": {
      "text/plain": [
       "<matplotlib.axes._subplots.AxesSubplot at 0x12d250f50>"
      ]
     },
     "execution_count": 50,
     "metadata": {},
     "output_type": "execute_result"
    },
    {
     "data": {
      "image/png": "[encoded data removed]",
      "text/plain": [
       "<Figure size 1440x720 with 2 Axes>"
      ]
     },
     "metadata": {},
     "output_type": "display_data"
    }
   ],
   "source": [
    "cumulative_df1 = df[['elapsed_time_min', 'start_date', 'year']].copy()\n",
    "cumulative_df1 = cumulative_df1.sort_values(by=['start_date'])\n",
    "cumulative_df1['cum_elapsed_time'] = cumulative_df1.groupby(['year'])['elapsed_time_min'].apply(lambda x: x.cumsum())\n",
    "cumulative_df1['month'] = cumulative_df1['start_date'].dt.month\n",
    "cumulative_df1['start_date'] = cumulative_df1['start_date'].map(lambda t: t.replace(year=2000))\n",
    "cumulative_df2 = df[['distance_km', 'start_date', 'year']].copy()\n",
    "cumulative_df2 = cumulative_df2.sort_values(by=['start_date'])\n",
    "cumulative_df2['cum_distance_km'] = cumulative_df2.groupby(['year'])['distance_km'].apply(lambda x: x.cumsum())\n",
    "cumulative_df2['month'] = cumulative_df2['start_date'].dt.month\n",
    "cumulative_df2['start_date'] = cumulative_df2['start_date'].map(lambda t: t.replace(year=2000))\n",
    "\n",
    "fig = plt.figure(figsize=(20,10))\n",
    "ax = plt.subplot(1, 2, 1)\n",
    "sns.lineplot(ax =ax, x=\"start_date\", y=\"cum_elapsed_time\", hue = \"year\", data=cumulative_df1)\n",
    "ax = plt.subplot(1, 2, 2)\n",
    "sns.lineplot(x=\"start_date\", y=\"cum_distance_km\", hue = \"year\", data=cumulative_df2)"
   ]
  },
  {
   "cell_type": "markdown",
   "metadata": {},
   "source": [
    "We can also see that the average run times seem to have increased as well"
   ]
  },
  {
   "cell_type": "code",
   "execution_count": 51,
   "metadata": {},
   "outputs": [
    {
     "data": {
      "text/plain": [
       "<matplotlib.axes._subplots.AxesSubplot at 0x12e1475d0>"
      ]
     },
     "execution_count": 51,
     "metadata": {},
     "output_type": "execute_result"
    },
    {
     "data": {
      "image/png": "[encoded data removed]",
      "text/plain": [
       "<Figure size 432x288 with 1 Axes>"
      ]
     },
     "metadata": {},
     "output_type": "display_data"
    }
   ],
   "source": [
    "sns.barplot(x=\"year\", y=\"elapsed_time_min\", data=df)"
   ]
  },
  {
   "cell_type": "markdown",
   "metadata": {},
   "source": [
    "Combine activity time for days with more than one run"
   ]
  },
  {
   "cell_type": "code",
   "execution_count": 52,
   "metadata": {},
   "outputs": [
    {
     "name": "stderr",
     "output_type": "stream",
     "text": [
      "/usr/local/lib/python3.7/site-packages/ipykernel_launcher.py:2: SettingWithCopyWarning: \n",
      "A value is trying to be set on a copy of a slice from a DataFrame.\n",
      "Try using .loc[row_indexer,col_indexer] = value instead\n",
      "\n",
      "See the caveats in the documentation: https://pandas.pydata.org/pandas-docs/stable/user_guide/indexing.html#returning-a-view-versus-a-copy\n",
      "  \n",
      "/usr/local/lib/python3.7/site-packages/ipykernel_launcher.py:4: SettingWithCopyWarning: \n",
      "A value is trying to be set on a copy of a slice from a DataFrame.\n",
      "Try using .loc[row_indexer,col_indexer] = value instead\n",
      "\n",
      "See the caveats in the documentation: https://pandas.pydata.org/pandas-docs/stable/user_guide/indexing.html#returning-a-view-versus-a-copy\n",
      "  after removing the cwd from sys.path.\n",
      "/usr/local/lib/python3.7/site-packages/ipykernel_launcher.py:5: SettingWithCopyWarning: \n",
      "A value is trying to be set on a copy of a slice from a DataFrame.\n",
      "Try using .loc[row_indexer,col_indexer] = value instead\n",
      "\n",
      "See the caveats in the documentation: https://pandas.pydata.org/pandas-docs/stable/user_guide/indexing.html#returning-a-view-versus-a-copy\n",
      "  \"\"\"\n"
     ]
    }
   ],
   "source": [
    "heat_map = df[['start_date', 'elapsed_time_min']]\n",
    "heat_map['start_date'] = heat_map['start_date'].dt.date\n",
    "heat_map.groupby(['start_date']).sum()\n",
    "heat_map['weekday'] = df['start_date'].dt.dayofweek\n",
    "heat_map['month'] = df['start_date'].dt.month\n",
    "del heat_map['start_date']\n",
    "heat_map = heat_map.sort_values(by=['month', 'weekday'])"
   ]
  },
  {
   "cell_type": "markdown",
   "metadata": {},
   "source": [
    "Add weekday and month columns to make it easier to input into the heatmap"
   ]
  },
  {
   "cell_type": "code",
   "execution_count": 53,
   "metadata": {
    "scrolled": true
   },
   "outputs": [],
   "source": [
    "heat_map = heat_map.pivot_table('elapsed_time_min', 'month', 'weekday')"
   ]
  },
  {
   "cell_type": "code",
   "execution_count": 54,
   "metadata": {},
   "outputs": [],
   "source": [
    "heat_map = heat_map.rename(lambda x: calendar.month_abbr[x])\n",
    "heat_map = heat_map.rename(columns = lambda x: calendar.day_abbr[x])"
   ]
  },
  {
   "cell_type": "code",
   "execution_count": 64,
   "metadata": {},
   "outputs": [
    {
     "data": {
      "text/plain": [
       "<matplotlib.axes._subplots.AxesSubplot at 0x12e6aa190>"
      ]
     },
     "execution_count": 64,
     "metadata": {},
     "output_type": "execute_result"
    },
    {
     "data": {
      "image/png": "[encoded data removed]",
      "text/plain": [
       "<Figure size 792x576 with 2 Axes>"
      ]
     },
     "metadata": {},
     "output_type": "display_data"
    }
   ],
   "source": [
    "fig, ax = plt.subplots(figsize=dimensions)\n",
    "sns.heatmap(heat_map, ax = ax)"
   ]
  },
  {
   "cell_type": "code",
   "execution_count": 56,
   "metadata": {},
   "outputs": [
    {
     "data": {
      "text/html": [
       "<div>\n",
       "<style scoped>\n",
       "    .dataframe tbody tr th:only-of-type {\n",
       "        vertical-align: middle;\n",
       "    }\n",
       "\n",
       "    .dataframe tbody tr th {\n",
       "        vertical-align: top;\n",
       "    }\n",
       "\n",
       "    .dataframe thead th {\n",
       "        text-align: right;\n",
       "    }\n",
       "</style>\n",
       "<table border=\"1\" class=\"dataframe\">\n",
       "  <thead>\n",
       "    <tr style=\"text-align: right;\">\n",
       "      <th></th>\n",
       "      <th>id</th>\n",
       "      <th>name</th>\n",
       "      <th>start_date</th>\n",
       "      <th>average_speed_ms</th>\n",
       "      <th>distance_km</th>\n",
       "      <th>elapsed_time_min</th>\n",
       "      <th>total_elevation_gain_m</th>\n",
       "      <th>type</th>\n",
       "      <th>manual_entry</th>\n",
       "      <th>year</th>\n",
       "    </tr>\n",
       "  </thead>\n",
       "  <tbody>\n",
       "    <tr>\n",
       "      <th>0</th>\n",
       "      <td>3217952831</td>\n",
       "      <td>I don't do it because it's easy, I do it becau...</td>\n",
       "      <td>2020-03-25 18:42:57</td>\n",
       "      <td>3.73</td>\n",
       "      <td>19.4</td>\n",
       "      <td>86</td>\n",
       "      <td>162.0</td>\n",
       "      <td>Run</td>\n",
       "      <td>False</td>\n",
       "      <td>2020</td>\n",
       "    </tr>\n",
       "    <tr>\n",
       "      <th>1</th>\n",
       "      <td>3214321630</td>\n",
       "      <td>An alpha meerkat will piss on other meerkats t...</td>\n",
       "      <td>2020-03-24 18:14:42</td>\n",
       "      <td>3.83</td>\n",
       "      <td>19.7</td>\n",
       "      <td>85</td>\n",
       "      <td>81.0</td>\n",
       "      <td>Run</td>\n",
       "      <td>False</td>\n",
       "      <td>2020</td>\n",
       "    </tr>\n",
       "    <tr>\n",
       "      <th>2</th>\n",
       "      <td>3211462218</td>\n",
       "      <td>If today was your last day...</td>\n",
       "      <td>2020-03-23 21:26:55</td>\n",
       "      <td>3.62</td>\n",
       "      <td>17.1</td>\n",
       "      <td>78</td>\n",
       "      <td>75.0</td>\n",
       "      <td>Run</td>\n",
       "      <td>False</td>\n",
       "      <td>2020</td>\n",
       "    </tr>\n",
       "    <tr>\n",
       "      <th>3</th>\n",
       "      <td>3208333245</td>\n",
       "      <td>\"on your left\" *ignored* rinse and repeat</td>\n",
       "      <td>2020-03-22 18:17:14</td>\n",
       "      <td>1.87</td>\n",
       "      <td>8.3</td>\n",
       "      <td>73</td>\n",
       "      <td>975.0</td>\n",
       "      <td>Run</td>\n",
       "      <td>False</td>\n",
       "      <td>2020</td>\n",
       "    </tr>\n",
       "    <tr>\n",
       "      <th>4</th>\n",
       "      <td>3204919571</td>\n",
       "      <td>With all this extra free time maybe people sho...</td>\n",
       "      <td>2020-03-21 20:31:33</td>\n",
       "      <td>3.70</td>\n",
       "      <td>12.3</td>\n",
       "      <td>55</td>\n",
       "      <td>47.0</td>\n",
       "      <td>Run</td>\n",
       "      <td>False</td>\n",
       "      <td>2020</td>\n",
       "    </tr>\n",
       "    <tr>\n",
       "      <th>...</th>\n",
       "      <td>...</td>\n",
       "      <td>...</td>\n",
       "      <td>...</td>\n",
       "      <td>...</td>\n",
       "      <td>...</td>\n",
       "      <td>...</td>\n",
       "      <td>...</td>\n",
       "      <td>...</td>\n",
       "      <td>...</td>\n",
       "      <td>...</td>\n",
       "    </tr>\n",
       "    <tr>\n",
       "      <th>1699</th>\n",
       "      <td>607726601</td>\n",
       "      <td>Lunch Run</td>\n",
       "      <td>2016-05-22 20:00:23</td>\n",
       "      <td>3.47</td>\n",
       "      <td>13.7</td>\n",
       "      <td>65</td>\n",
       "      <td>336.0</td>\n",
       "      <td>Run</td>\n",
       "      <td>False</td>\n",
       "      <td>2016</td>\n",
       "    </tr>\n",
       "    <tr>\n",
       "      <th>1700</th>\n",
       "      <td>607726595</td>\n",
       "      <td>Morning Run</td>\n",
       "      <td>2016-05-20 18:15:13</td>\n",
       "      <td>2.99</td>\n",
       "      <td>24.3</td>\n",
       "      <td>135</td>\n",
       "      <td>235.0</td>\n",
       "      <td>Run</td>\n",
       "      <td>False</td>\n",
       "      <td>2016</td>\n",
       "    </tr>\n",
       "    <tr>\n",
       "      <th>1701</th>\n",
       "      <td>607726584</td>\n",
       "      <td>Afternoon Run</td>\n",
       "      <td>2016-05-18 21:21:11</td>\n",
       "      <td>3.76</td>\n",
       "      <td>4.8</td>\n",
       "      <td>21</td>\n",
       "      <td>84.0</td>\n",
       "      <td>Run</td>\n",
       "      <td>False</td>\n",
       "      <td>2016</td>\n",
       "    </tr>\n",
       "    <tr>\n",
       "      <th>1702</th>\n",
       "      <td>607726597</td>\n",
       "      <td>Lunch Run</td>\n",
       "      <td>2016-05-16 20:42:08</td>\n",
       "      <td>3.59</td>\n",
       "      <td>12.6</td>\n",
       "      <td>58</td>\n",
       "      <td>170.0</td>\n",
       "      <td>Run</td>\n",
       "      <td>False</td>\n",
       "      <td>2016</td>\n",
       "    </tr>\n",
       "    <tr>\n",
       "      <th>1704</th>\n",
       "      <td>607726565</td>\n",
       "      <td>Evening Run</td>\n",
       "      <td>2016-05-12 03:44:17</td>\n",
       "      <td>3.56</td>\n",
       "      <td>12.6</td>\n",
       "      <td>59</td>\n",
       "      <td>175.0</td>\n",
       "      <td>Run</td>\n",
       "      <td>False</td>\n",
       "      <td>2016</td>\n",
       "    </tr>\n",
       "  </tbody>\n",
       "</table>\n",
       "<p>1642 rows × 10 columns</p>\n",
       "</div>"
      ],
      "text/plain": [
       "              id                                               name  \\\n",
       "0     3217952831  I don't do it because it's easy, I do it becau...   \n",
       "1     3214321630  An alpha meerkat will piss on other meerkats t...   \n",
       "2     3211462218                      If today was your last day...   \n",
       "3     3208333245          \"on your left\" *ignored* rinse and repeat   \n",
       "4     3204919571  With all this extra free time maybe people sho...   \n",
       "...          ...                                                ...   \n",
       "1699   607726601                                          Lunch Run   \n",
       "1700   607726595                                        Morning Run   \n",
       "1701   607726584                                      Afternoon Run   \n",
       "1702   607726597                                          Lunch Run   \n",
       "1704   607726565                                        Evening Run   \n",
       "\n",
       "              start_date  average_speed_ms  distance_km  elapsed_time_min  \\\n",
       "0    2020-03-25 18:42:57              3.73         19.4                86   \n",
       "1    2020-03-24 18:14:42              3.83         19.7                85   \n",
       "2    2020-03-23 21:26:55              3.62         17.1                78   \n",
       "3    2020-03-22 18:17:14              1.87          8.3                73   \n",
       "4    2020-03-21 20:31:33              3.70         12.3                55   \n",
       "...                  ...               ...          ...               ...   \n",
       "1699 2016-05-22 20:00:23              3.47         13.7                65   \n",
       "1700 2016-05-20 18:15:13              2.99         24.3               135   \n",
       "1701 2016-05-18 21:21:11              3.76          4.8                21   \n",
       "1702 2016-05-16 20:42:08              3.59         12.6                58   \n",
       "1704 2016-05-12 03:44:17              3.56         12.6                59   \n",
       "\n",
       "      total_elevation_gain_m type  manual_entry  year  \n",
       "0                      162.0  Run         False  2020  \n",
       "1                       81.0  Run         False  2020  \n",
       "2                       75.0  Run         False  2020  \n",
       "3                      975.0  Run         False  2020  \n",
       "4                       47.0  Run         False  2020  \n",
       "...                      ...  ...           ...   ...  \n",
       "1699                   336.0  Run         False  2016  \n",
       "1700                   235.0  Run         False  2016  \n",
       "1701                    84.0  Run         False  2016  \n",
       "1702                   170.0  Run         False  2016  \n",
       "1704                   175.0  Run         False  2016  \n",
       "\n",
       "[1642 rows x 10 columns]"
      ]
     },
     "execution_count": 56,
     "metadata": {},
     "output_type": "execute_result"
    }
   ],
   "source": [
    "df"
   ]
  },
  {
   "cell_type": "code",
   "execution_count": 65,
   "metadata": {},
   "outputs": [
    {
     "data": {
      "image/png": "[encoded data removed]",
      "text/plain": [
       "<Figure size 792x576 with 1 Axes>"
      ]
     },
     "metadata": {},
     "output_type": "display_data"
    }
   ],
   "source": [
    "fig, ax = plt.subplots(figsize=dimensions)\n",
    "sns.distplot(df['distance_km'], bins=20, rug=True, ax = ax);"
   ]
  },
  {
   "cell_type": "code",
   "execution_count": 58,
   "metadata": {},
   "outputs": [
    {
     "data": {
      "text/plain": [
       "0       (16.1, 103.4]\n",
       "1       (16.1, 103.4]\n",
       "2       (16.1, 103.4]\n",
       "3         (7.2, 11.7]\n",
       "4        (11.7, 16.1]\n",
       "            ...      \n",
       "1699     (11.7, 16.1]\n",
       "1700    (16.1, 103.4]\n",
       "1701     (0.199, 7.2]\n",
       "1702     (11.7, 16.1]\n",
       "1704     (11.7, 16.1]\n",
       "Name: distance_km, Length: 1642, dtype: category\n",
       "Categories (4, interval[float64]): [(0.199, 7.2] < (7.2, 11.7] < (11.7, 16.1] < (16.1, 103.4]]"
      ]
     },
     "execution_count": 58,
     "metadata": {},
     "output_type": "execute_result"
    }
   ],
   "source": [
    "pd.qcut(df['distance_km'], q=4)"
   ]
  },
  {
   "cell_type": "code",
   "execution_count": 59,
   "metadata": {},
   "outputs": [
    {
     "name": "stderr",
     "output_type": "stream",
     "text": [
      "/usr/local/lib/python3.7/site-packages/ipykernel_launcher.py:2: SettingWithCopyWarning: \n",
      "A value is trying to be set on a copy of a slice from a DataFrame.\n",
      "Try using .loc[row_indexer,col_indexer] = value instead\n",
      "\n",
      "See the caveats in the documentation: https://pandas.pydata.org/pandas-docs/stable/user_guide/indexing.html#returning-a-view-versus-a-copy\n",
      "  \n",
      "/usr/local/lib/python3.7/site-packages/ipykernel_launcher.py:3: SettingWithCopyWarning: \n",
      "A value is trying to be set on a copy of a slice from a DataFrame.\n",
      "Try using .loc[row_indexer,col_indexer] = value instead\n",
      "\n",
      "See the caveats in the documentation: https://pandas.pydata.org/pandas-docs/stable/user_guide/indexing.html#returning-a-view-versus-a-copy\n",
      "  This is separate from the ipykernel package so we can avoid doing imports until\n"
     ]
    }
   ],
   "source": [
    "bins = [0, 5.5, 10.5, 15.5, np.inf]\n",
    "df['distance_bins_km'] = pd.cut(df['distance_km'], bins = bins)\n",
    "df['distance_bins_int'] = pd.cut(df['distance_km'], bins = bins, labels = False)"
   ]
  },
  {
   "cell_type": "code",
   "execution_count": null,
   "metadata": {},
   "outputs": [],
   "source": [
    "fig = plt.figure(figsize=(20,10))\n",
    "ax = plt.subplot(1, 2, 1)\n",
    "sns.lineplot(ax =ax, x=\"start_date\", y=\"avg speed\", hue = \"year\", data=cumulative_df1)\n",
    "ax = plt.subplot(1, 2, 2)\n",
    "sns.lineplot(x=\"start_date\", y=\"cum_distance_km\", hue = \"year\", data=cumulative_df2)"
   ]
  },
  {
   "cell_type": "code",
   "execution_count": 60,
   "metadata": {},
   "outputs": [],
   "source": [
    "test = df[df['distance_bins_int'] == 0]"
   ]
  },
  {
   "cell_type": "code",
   "execution_count": 61,
   "metadata": {},
   "outputs": [
    {
     "data": {
      "text/html": [
       "<div>\n",
       "<style scoped>\n",
       "    .dataframe tbody tr th:only-of-type {\n",
       "        vertical-align: middle;\n",
       "    }\n",
       "\n",
       "    .dataframe tbody tr th {\n",
       "        vertical-align: top;\n",
       "    }\n",
       "\n",
       "    .dataframe thead th {\n",
       "        text-align: right;\n",
       "    }\n",
       "</style>\n",
       "<table border=\"1\" class=\"dataframe\">\n",
       "  <thead>\n",
       "    <tr style=\"text-align: right;\">\n",
       "      <th></th>\n",
       "      <th>id</th>\n",
       "      <th>name</th>\n",
       "      <th>start_date</th>\n",
       "      <th>average_speed_ms</th>\n",
       "      <th>distance_km</th>\n",
       "      <th>elapsed_time_min</th>\n",
       "      <th>total_elevation_gain_m</th>\n",
       "      <th>type</th>\n",
       "      <th>manual_entry</th>\n",
       "      <th>year</th>\n",
       "      <th>distance_bins_km</th>\n",
       "      <th>distance_bins_int</th>\n",
       "    </tr>\n",
       "  </thead>\n",
       "  <tbody>\n",
       "    <tr>\n",
       "      <th>52</th>\n",
       "      <td>3093561383</td>\n",
       "      <td>*high wavery voice* I could just show up as a ...</td>\n",
       "      <td>2020-02-11 14:12:03</td>\n",
       "      <td>3.70</td>\n",
       "      <td>4.8</td>\n",
       "      <td>21</td>\n",
       "      <td>0.0</td>\n",
       "      <td>Run</td>\n",
       "      <td>True</td>\n",
       "      <td>2020</td>\n",
       "      <td>(0.0, 5.5]</td>\n",
       "      <td>0</td>\n",
       "    </tr>\n",
       "    <tr>\n",
       "      <th>73</th>\n",
       "      <td>3052442158</td>\n",
       "      <td>If we can make a pipeline from Canada then why...</td>\n",
       "      <td>2020-01-29 01:21:45</td>\n",
       "      <td>3.83</td>\n",
       "      <td>4.8</td>\n",
       "      <td>21</td>\n",
       "      <td>0.0</td>\n",
       "      <td>Run</td>\n",
       "      <td>True</td>\n",
       "      <td>2020</td>\n",
       "      <td>(0.0, 5.5]</td>\n",
       "      <td>0</td>\n",
       "    </tr>\n",
       "    <tr>\n",
       "      <th>89</th>\n",
       "      <td>3026727554</td>\n",
       "      <td>The prophet in red was one of the only people ...</td>\n",
       "      <td>2020-01-19 22:48:45</td>\n",
       "      <td>3.15</td>\n",
       "      <td>5.0</td>\n",
       "      <td>26</td>\n",
       "      <td>24.0</td>\n",
       "      <td>Run</td>\n",
       "      <td>False</td>\n",
       "      <td>2020</td>\n",
       "      <td>(0.0, 5.5]</td>\n",
       "      <td>0</td>\n",
       "    </tr>\n",
       "    <tr>\n",
       "      <th>153</th>\n",
       "      <td>2894079789</td>\n",
       "      <td>TM</td>\n",
       "      <td>2019-11-27 00:25:01</td>\n",
       "      <td>3.83</td>\n",
       "      <td>4.8</td>\n",
       "      <td>21</td>\n",
       "      <td>0.0</td>\n",
       "      <td>Run</td>\n",
       "      <td>True</td>\n",
       "      <td>2019</td>\n",
       "      <td>(0.0, 5.5]</td>\n",
       "      <td>0</td>\n",
       "    </tr>\n",
       "    <tr>\n",
       "      <th>163</th>\n",
       "      <td>2874818547</td>\n",
       "      <td>Afternoon Run</td>\n",
       "      <td>2019-11-18 21:13:37</td>\n",
       "      <td>2.91</td>\n",
       "      <td>4.8</td>\n",
       "      <td>27</td>\n",
       "      <td>24.0</td>\n",
       "      <td>Run</td>\n",
       "      <td>False</td>\n",
       "      <td>2019</td>\n",
       "      <td>(0.0, 5.5]</td>\n",
       "      <td>0</td>\n",
       "    </tr>\n",
       "    <tr>\n",
       "      <th>...</th>\n",
       "      <td>...</td>\n",
       "      <td>...</td>\n",
       "      <td>...</td>\n",
       "      <td>...</td>\n",
       "      <td>...</td>\n",
       "      <td>...</td>\n",
       "      <td>...</td>\n",
       "      <td>...</td>\n",
       "      <td>...</td>\n",
       "      <td>...</td>\n",
       "      <td>...</td>\n",
       "      <td>...</td>\n",
       "    </tr>\n",
       "    <tr>\n",
       "      <th>1671</th>\n",
       "      <td>619739481</td>\n",
       "      <td>Mount Marathon Cool Down</td>\n",
       "      <td>2016-06-21 22:15:55</td>\n",
       "      <td>3.03</td>\n",
       "      <td>4.7</td>\n",
       "      <td>25</td>\n",
       "      <td>65.0</td>\n",
       "      <td>Run</td>\n",
       "      <td>False</td>\n",
       "      <td>2016</td>\n",
       "      <td>(0.0, 5.5]</td>\n",
       "      <td>0</td>\n",
       "    </tr>\n",
       "    <tr>\n",
       "      <th>1676</th>\n",
       "      <td>609618948</td>\n",
       "      <td>Maintenance</td>\n",
       "      <td>2016-06-15 00:57:42</td>\n",
       "      <td>3.33</td>\n",
       "      <td>5.1</td>\n",
       "      <td>25</td>\n",
       "      <td>41.0</td>\n",
       "      <td>Run</td>\n",
       "      <td>False</td>\n",
       "      <td>2016</td>\n",
       "      <td>(0.0, 5.5]</td>\n",
       "      <td>0</td>\n",
       "    </tr>\n",
       "    <tr>\n",
       "      <th>1678</th>\n",
       "      <td>608348483</td>\n",
       "      <td>Lunch Run</td>\n",
       "      <td>2016-06-13 19:13:47</td>\n",
       "      <td>3.34</td>\n",
       "      <td>5.2</td>\n",
       "      <td>25</td>\n",
       "      <td>99.0</td>\n",
       "      <td>Run</td>\n",
       "      <td>False</td>\n",
       "      <td>2016</td>\n",
       "      <td>(0.0, 5.5]</td>\n",
       "      <td>0</td>\n",
       "    </tr>\n",
       "    <tr>\n",
       "      <th>1695</th>\n",
       "      <td>607726540</td>\n",
       "      <td>Lunch Run</td>\n",
       "      <td>2016-05-26 19:43:58</td>\n",
       "      <td>3.60</td>\n",
       "      <td>5.1</td>\n",
       "      <td>23</td>\n",
       "      <td>43.0</td>\n",
       "      <td>Run</td>\n",
       "      <td>False</td>\n",
       "      <td>2016</td>\n",
       "      <td>(0.0, 5.5]</td>\n",
       "      <td>0</td>\n",
       "    </tr>\n",
       "    <tr>\n",
       "      <th>1701</th>\n",
       "      <td>607726584</td>\n",
       "      <td>Afternoon Run</td>\n",
       "      <td>2016-05-18 21:21:11</td>\n",
       "      <td>3.76</td>\n",
       "      <td>4.8</td>\n",
       "      <td>21</td>\n",
       "      <td>84.0</td>\n",
       "      <td>Run</td>\n",
       "      <td>False</td>\n",
       "      <td>2016</td>\n",
       "      <td>(0.0, 5.5]</td>\n",
       "      <td>0</td>\n",
       "    </tr>\n",
       "  </tbody>\n",
       "</table>\n",
       "<p>89 rows × 12 columns</p>\n",
       "</div>"
      ],
      "text/plain": [
       "              id                                               name  \\\n",
       "52    3093561383  *high wavery voice* I could just show up as a ...   \n",
       "73    3052442158  If we can make a pipeline from Canada then why...   \n",
       "89    3026727554  The prophet in red was one of the only people ...   \n",
       "153   2894079789                                                 TM   \n",
       "163   2874818547                                      Afternoon Run   \n",
       "...          ...                                                ...   \n",
       "1671   619739481                           Mount Marathon Cool Down   \n",
       "1676   609618948                                        Maintenance   \n",
       "1678   608348483                                          Lunch Run   \n",
       "1695   607726540                                          Lunch Run   \n",
       "1701   607726584                                      Afternoon Run   \n",
       "\n",
       "              start_date  average_speed_ms  distance_km  elapsed_time_min  \\\n",
       "52   2020-02-11 14:12:03              3.70          4.8                21   \n",
       "73   2020-01-29 01:21:45              3.83          4.8                21   \n",
       "89   2020-01-19 22:48:45              3.15          5.0                26   \n",
       "153  2019-11-27 00:25:01              3.83          4.8                21   \n",
       "163  2019-11-18 21:13:37              2.91          4.8                27   \n",
       "...                  ...               ...          ...               ...   \n",
       "1671 2016-06-21 22:15:55              3.03          4.7                25   \n",
       "1676 2016-06-15 00:57:42              3.33          5.1                25   \n",
       "1678 2016-06-13 19:13:47              3.34          5.2                25   \n",
       "1695 2016-05-26 19:43:58              3.60          5.1                23   \n",
       "1701 2016-05-18 21:21:11              3.76          4.8                21   \n",
       "\n",
       "      total_elevation_gain_m type  manual_entry  year distance_bins_km  \\\n",
       "52                       0.0  Run          True  2020       (0.0, 5.5]   \n",
       "73                       0.0  Run          True  2020       (0.0, 5.5]   \n",
       "89                      24.0  Run         False  2020       (0.0, 5.5]   \n",
       "153                      0.0  Run          True  2019       (0.0, 5.5]   \n",
       "163                     24.0  Run         False  2019       (0.0, 5.5]   \n",
       "...                      ...  ...           ...   ...              ...   \n",
       "1671                    65.0  Run         False  2016       (0.0, 5.5]   \n",
       "1676                    41.0  Run         False  2016       (0.0, 5.5]   \n",
       "1678                    99.0  Run         False  2016       (0.0, 5.5]   \n",
       "1695                    43.0  Run         False  2016       (0.0, 5.5]   \n",
       "1701                    84.0  Run         False  2016       (0.0, 5.5]   \n",
       "\n",
       "      distance_bins_int  \n",
       "52                    0  \n",
       "73                    0  \n",
       "89                    0  \n",
       "153                   0  \n",
       "163                   0  \n",
       "...                 ...  \n",
       "1671                  0  \n",
       "1676                  0  \n",
       "1678                  0  \n",
       "1695                  0  \n",
       "1701                  0  \n",
       "\n",
       "[89 rows x 12 columns]"
      ]
     },
     "execution_count": 61,
     "metadata": {},
     "output_type": "execute_result"
    }
   ],
   "source": []
  },
  {
   "cell_type": "code",
   "execution_count": 62,
   "metadata": {},
   "outputs": [
    {
     "data": {
      "application/vnd.jupyter.widget-view+json": {
       "model_id": "59a6444b6a0841fdb25ef8566f2ae602",
       "version_major": 2,
       "version_minor": 0
      },
      "text/plain": [
       "Dropdown(description='x axis:', options=('elapsed_time_min', 'distance_km', 'total_elevation_gain_m', 'average…"
      ]
     },
     "metadata": {},
     "output_type": "display_data"
    }
   ],
   "source": [
    "x = widgets.Dropdown(\n",
    "    options=[\"elapsed_time_min\", \"distance_km\", \"total_elevation_gain_m\", \"average_speed_ms\"],\n",
    "    value='elapsed_time_min',\n",
    "    description='x axis:',\n",
    "    disabled=False,\n",
    ")\n",
    "x"
   ]
  },
  {
   "cell_type": "code",
   "execution_count": 63,
   "metadata": {},
   "outputs": [
    {
     "ename": "NameError",
     "evalue": "name 'y' is not defined",
     "output_type": "error",
     "traceback": [
      "\u001b[0;31m---------------------------------------------------------------------------\u001b[0m",
      "\u001b[0;31mNameError\u001b[0m                                 Traceback (most recent call last)",
      "\u001b[0;32m<ipython-input-63-cbefa7cf8982>\u001b[0m in \u001b[0;36m<module>\u001b[0;34m\u001b[0m\n\u001b[0;32m----> 1\u001b[0;31m \u001b[0msns\u001b[0m\u001b[0;34m.\u001b[0m\u001b[0mscatterplot\u001b[0m\u001b[0;34m(\u001b[0m\u001b[0mx\u001b[0m\u001b[0;34m=\u001b[0m\u001b[0mx\u001b[0m\u001b[0;34m.\u001b[0m\u001b[0mvalue\u001b[0m\u001b[0;34m,\u001b[0m \u001b[0my\u001b[0m\u001b[0;34m=\u001b[0m\u001b[0my\u001b[0m\u001b[0;34m.\u001b[0m\u001b[0mvalue\u001b[0m\u001b[0;34m,\u001b[0m \u001b[0malpha\u001b[0m \u001b[0;34m=\u001b[0m \u001b[0;36m.3\u001b[0m\u001b[0;34m,\u001b[0m \u001b[0mdata\u001b[0m\u001b[0;34m=\u001b[0m\u001b[0mdf\u001b[0m\u001b[0;34m.\u001b[0m\u001b[0mquery\u001b[0m\u001b[0;34m(\u001b[0m\u001b[0;34mf'start_date >= {year_start.value} & start_date <= {year_end.value}'\u001b[0m\u001b[0;34m)\u001b[0m\u001b[0;34m)\u001b[0m\u001b[0;34m;\u001b[0m\u001b[0;34m\u001b[0m\u001b[0;34m\u001b[0m\u001b[0m\n\u001b[0m",
      "\u001b[0;31mNameError\u001b[0m: name 'y' is not defined"
     ]
    }
   ],
   "source": [
    "sns.scatterplot(x=x.value, y=y.value, alpha = .3, data=df.query(f'start_date >= {year_start.value} & start_date <= {year_end.value}'));"
   ]
  },
  {
   "cell_type": "code",
   "execution_count": null,
   "metadata": {},
   "outputs": [],
   "source": [
    "df['year'] = df['start_date'].dt.year\n",
    "sns.relplot(x=\"elapsed_time_min\", y=\"distance_km\", hue= \"year\", alpha=.5, palette=\"muted\",\n",
    "            height=6, data=df)"
   ]
  },
  {
   "cell_type": "code",
   "execution_count": null,
   "metadata": {},
   "outputs": [],
   "source": []
  },
  {
   "cell_type": "code",
   "execution_count": null,
   "metadata": {},
   "outputs": [],
   "source": []
  },
  {
   "cell_type": "code",
   "execution_count": null,
   "metadata": {},
   "outputs": [],
   "source": []
  },
  {
   "cell_type": "code",
   "execution_count": null,
   "metadata": {},
   "outputs": [],
   "source": []
  }
 ],
 "metadata": {
  "kernelspec": {
   "display_name": "Python 3",
   "language": "python",
   "name": "python3"
  },
  "language_info": {
   "codemirror_mode": {
    "name": "ipython",
    "version": 3
   },
   "file_extension": ".py",
   "mimetype": "text/x-python",
   "name": "python",
   "nbconvert_exporter": "python",
   "pygments_lexer": "ipython3",
   "version": "3.7.7"
  }
 },
 "nbformat": 4,
 "nbformat_minor": 2
}
