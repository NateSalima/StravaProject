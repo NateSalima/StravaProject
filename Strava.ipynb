{
 "cells": [
  {
   "cell_type": "markdown",
   "metadata": {},
   "source": [
    "# Strava Data Project"
   ]
  },
  {
   "cell_type": "markdown",
   "metadata": {},
   "source": [
    "Import necessary libraries"
   ]
  },
  {
   "cell_type": "code",
   "execution_count": 1,
   "metadata": {},
   "outputs": [],
   "source": [
    "import pandas as pd\n",
    "import numpy as np\n",
    "import psycopg2\n",
    "import calendar\n",
    "import os\n",
    "import json\n",
    "import seaborn as sns\n",
    "import matplotlib.pyplot as plt\n",
    "import datetime as dt\n",
    "from sqlalchemy import create_engine\n",
    "import ipywidgets as widgets\n",
    "from ipywidgets import interact, interact_manual"
   ]
  },
  {
   "cell_type": "code",
   "execution_count": 2,
   "metadata": {},
   "outputs": [],
   "source": [
    "ROOT_DIR = os.path.dirname(os.path.abspath('Strava.ipynb'))\n",
    "\n",
    "json_file = open(os.path.join(ROOT_DIR, 'strava_config1.json'), 'r')\n",
    "json_str = json_file.read()\n",
    "\n",
    "redshift_info = json.loads(json_str)['redshift_credentials']\n",
    "\n",
    "db_name = redshift_info['db_name']\n",
    "iam_user = redshift_info['iam_user']\n",
    "iam_password = redshift_info['iam_password']\n",
    "endpoint = redshift_info['endpoint']\n",
    "table_name = redshift_info['table_name']"
   ]
  },
  {
   "cell_type": "markdown",
   "metadata": {},
   "source": [
    "Put table from Redshift into a dataframe"
   ]
  },
  {
   "cell_type": "code",
   "execution_count": 3,
   "metadata": {},
   "outputs": [],
   "source": [
    "engine = create_engine(f'redshift+psycopg2://{iam_user}:{iam_password}@{endpoint}/{db_name}')\n",
    "df = pd.read_sql_query(f'SELECT * FROM public.{table_name} ORDER BY start_date DESC',con=engine)"
   ]
  },
  {
   "cell_type": "markdown",
   "metadata": {},
   "source": [
    "## Lets Take An Initial Look At The Data"
   ]
  },
  {
   "cell_type": "code",
   "execution_count": 4,
   "metadata": {},
   "outputs": [
    {
     "data": {
      "text/html": [
       "<div>\n",
       "<style scoped>\n",
       "    .dataframe tbody tr th:only-of-type {\n",
       "        vertical-align: middle;\n",
       "    }\n",
       "\n",
       "    .dataframe tbody tr th {\n",
       "        vertical-align: top;\n",
       "    }\n",
       "\n",
       "    .dataframe thead th {\n",
       "        text-align: right;\n",
       "    }\n",
       "</style>\n",
       "<table border=\"1\" class=\"dataframe\">\n",
       "  <thead>\n",
       "    <tr style=\"text-align: right;\">\n",
       "      <th></th>\n",
       "      <th>id</th>\n",
       "      <th>name</th>\n",
       "      <th>start_date</th>\n",
       "      <th>average_speed_ms</th>\n",
       "      <th>distance_km</th>\n",
       "      <th>elapsed_time_min</th>\n",
       "      <th>total_elevation_gain_m</th>\n",
       "      <th>type</th>\n",
       "      <th>manual_entry</th>\n",
       "    </tr>\n",
       "  </thead>\n",
       "  <tbody>\n",
       "    <tr>\n",
       "      <th>0</th>\n",
       "      <td>3217952831</td>\n",
       "      <td>I don't do it because it's easy, I do it becau...</td>\n",
       "      <td>2020-03-25 18:42:57</td>\n",
       "      <td>4.0</td>\n",
       "      <td>19.0</td>\n",
       "      <td>86</td>\n",
       "      <td>162.0</td>\n",
       "      <td>Run</td>\n",
       "      <td>False</td>\n",
       "    </tr>\n",
       "    <tr>\n",
       "      <th>1</th>\n",
       "      <td>3214321630</td>\n",
       "      <td>An alpha meerkat will piss on other meerkats t...</td>\n",
       "      <td>2020-03-24 18:14:42</td>\n",
       "      <td>4.0</td>\n",
       "      <td>20.0</td>\n",
       "      <td>85</td>\n",
       "      <td>81.0</td>\n",
       "      <td>Run</td>\n",
       "      <td>False</td>\n",
       "    </tr>\n",
       "    <tr>\n",
       "      <th>2</th>\n",
       "      <td>3211462218</td>\n",
       "      <td>If today was your last day...</td>\n",
       "      <td>2020-03-23 21:26:55</td>\n",
       "      <td>4.0</td>\n",
       "      <td>17.0</td>\n",
       "      <td>78</td>\n",
       "      <td>75.0</td>\n",
       "      <td>Run</td>\n",
       "      <td>False</td>\n",
       "    </tr>\n",
       "    <tr>\n",
       "      <th>3</th>\n",
       "      <td>3208333245</td>\n",
       "      <td>\"on your left\" *ignored* rinse and repeat</td>\n",
       "      <td>2020-03-22 18:17:14</td>\n",
       "      <td>2.0</td>\n",
       "      <td>8.0</td>\n",
       "      <td>73</td>\n",
       "      <td>975.0</td>\n",
       "      <td>Run</td>\n",
       "      <td>False</td>\n",
       "    </tr>\n",
       "    <tr>\n",
       "      <th>4</th>\n",
       "      <td>3204919571</td>\n",
       "      <td>With all this extra free time maybe people sho...</td>\n",
       "      <td>2020-03-21 20:31:33</td>\n",
       "      <td>4.0</td>\n",
       "      <td>12.0</td>\n",
       "      <td>55</td>\n",
       "      <td>47.0</td>\n",
       "      <td>Run</td>\n",
       "      <td>False</td>\n",
       "    </tr>\n",
       "    <tr>\n",
       "      <th>...</th>\n",
       "      <td>...</td>\n",
       "      <td>...</td>\n",
       "      <td>...</td>\n",
       "      <td>...</td>\n",
       "      <td>...</td>\n",
       "      <td>...</td>\n",
       "      <td>...</td>\n",
       "      <td>...</td>\n",
       "      <td>...</td>\n",
       "    </tr>\n",
       "    <tr>\n",
       "      <th>1700</th>\n",
       "      <td>607726595</td>\n",
       "      <td>Morning Run</td>\n",
       "      <td>2016-05-20 18:15:13</td>\n",
       "      <td>3.0</td>\n",
       "      <td>24.0</td>\n",
       "      <td>135</td>\n",
       "      <td>235.0</td>\n",
       "      <td>Run</td>\n",
       "      <td>False</td>\n",
       "    </tr>\n",
       "    <tr>\n",
       "      <th>1701</th>\n",
       "      <td>607726584</td>\n",
       "      <td>Afternoon Run</td>\n",
       "      <td>2016-05-18 21:21:11</td>\n",
       "      <td>4.0</td>\n",
       "      <td>5.0</td>\n",
       "      <td>21</td>\n",
       "      <td>84.0</td>\n",
       "      <td>Run</td>\n",
       "      <td>False</td>\n",
       "    </tr>\n",
       "    <tr>\n",
       "      <th>1702</th>\n",
       "      <td>607726597</td>\n",
       "      <td>Lunch Run</td>\n",
       "      <td>2016-05-16 20:42:08</td>\n",
       "      <td>4.0</td>\n",
       "      <td>13.0</td>\n",
       "      <td>58</td>\n",
       "      <td>170.0</td>\n",
       "      <td>Run</td>\n",
       "      <td>False</td>\n",
       "    </tr>\n",
       "    <tr>\n",
       "      <th>1703</th>\n",
       "      <td>607726580</td>\n",
       "      <td>Afternoon Ride</td>\n",
       "      <td>2016-05-12 22:05:14</td>\n",
       "      <td>7.0</td>\n",
       "      <td>25.0</td>\n",
       "      <td>58</td>\n",
       "      <td>194.0</td>\n",
       "      <td>Ride</td>\n",
       "      <td>False</td>\n",
       "    </tr>\n",
       "    <tr>\n",
       "      <th>1704</th>\n",
       "      <td>607726565</td>\n",
       "      <td>Evening Run</td>\n",
       "      <td>2016-05-12 03:44:17</td>\n",
       "      <td>4.0</td>\n",
       "      <td>13.0</td>\n",
       "      <td>59</td>\n",
       "      <td>175.0</td>\n",
       "      <td>Run</td>\n",
       "      <td>False</td>\n",
       "    </tr>\n",
       "  </tbody>\n",
       "</table>\n",
       "<p>1705 rows × 9 columns</p>\n",
       "</div>"
      ],
      "text/plain": [
       "              id                                               name  \\\n",
       "0     3217952831  I don't do it because it's easy, I do it becau...   \n",
       "1     3214321630  An alpha meerkat will piss on other meerkats t...   \n",
       "2     3211462218                      If today was your last day...   \n",
       "3     3208333245          \"on your left\" *ignored* rinse and repeat   \n",
       "4     3204919571  With all this extra free time maybe people sho...   \n",
       "...          ...                                                ...   \n",
       "1700   607726595                                        Morning Run   \n",
       "1701   607726584                                      Afternoon Run   \n",
       "1702   607726597                                          Lunch Run   \n",
       "1703   607726580                                     Afternoon Ride   \n",
       "1704   607726565                                        Evening Run   \n",
       "\n",
       "              start_date  average_speed_ms  distance_km  elapsed_time_min  \\\n",
       "0    2020-03-25 18:42:57               4.0         19.0                86   \n",
       "1    2020-03-24 18:14:42               4.0         20.0                85   \n",
       "2    2020-03-23 21:26:55               4.0         17.0                78   \n",
       "3    2020-03-22 18:17:14               2.0          8.0                73   \n",
       "4    2020-03-21 20:31:33               4.0         12.0                55   \n",
       "...                  ...               ...          ...               ...   \n",
       "1700 2016-05-20 18:15:13               3.0         24.0               135   \n",
       "1701 2016-05-18 21:21:11               4.0          5.0                21   \n",
       "1702 2016-05-16 20:42:08               4.0         13.0                58   \n",
       "1703 2016-05-12 22:05:14               7.0         25.0                58   \n",
       "1704 2016-05-12 03:44:17               4.0         13.0                59   \n",
       "\n",
       "      total_elevation_gain_m  type  manual_entry  \n",
       "0                      162.0   Run         False  \n",
       "1                       81.0   Run         False  \n",
       "2                       75.0   Run         False  \n",
       "3                      975.0   Run         False  \n",
       "4                       47.0   Run         False  \n",
       "...                      ...   ...           ...  \n",
       "1700                   235.0   Run         False  \n",
       "1701                    84.0   Run         False  \n",
       "1702                   170.0   Run         False  \n",
       "1703                   194.0  Ride         False  \n",
       "1704                   175.0   Run         False  \n",
       "\n",
       "[1705 rows x 9 columns]"
      ]
     },
     "execution_count": 4,
     "metadata": {},
     "output_type": "execute_result"
    }
   ],
   "source": [
    "df"
   ]
  },
  {
   "cell_type": "code",
   "execution_count": 5,
   "metadata": {},
   "outputs": [
    {
     "data": {
      "text/html": [
       "<div>\n",
       "<style scoped>\n",
       "    .dataframe tbody tr th:only-of-type {\n",
       "        vertical-align: middle;\n",
       "    }\n",
       "\n",
       "    .dataframe tbody tr th {\n",
       "        vertical-align: top;\n",
       "    }\n",
       "\n",
       "    .dataframe thead th {\n",
       "        text-align: right;\n",
       "    }\n",
       "</style>\n",
       "<table border=\"1\" class=\"dataframe\">\n",
       "  <thead>\n",
       "    <tr style=\"text-align: right;\">\n",
       "      <th></th>\n",
       "      <th>id</th>\n",
       "      <th>average_speed_ms</th>\n",
       "      <th>distance_km</th>\n",
       "      <th>elapsed_time_min</th>\n",
       "      <th>total_elevation_gain_m</th>\n",
       "    </tr>\n",
       "  </thead>\n",
       "  <tbody>\n",
       "    <tr>\n",
       "      <th>count</th>\n",
       "      <td>1.705000e+03</td>\n",
       "      <td>1705.000000</td>\n",
       "      <td>1705.000000</td>\n",
       "      <td>1705.000000</td>\n",
       "      <td>1705.000000</td>\n",
       "    </tr>\n",
       "    <tr>\n",
       "      <th>mean</th>\n",
       "      <td>1.701081e+09</td>\n",
       "      <td>3.329619</td>\n",
       "      <td>12.862170</td>\n",
       "      <td>70.074487</td>\n",
       "      <td>227.368915</td>\n",
       "    </tr>\n",
       "    <tr>\n",
       "      <th>std</th>\n",
       "      <td>7.498481e+08</td>\n",
       "      <td>1.013626</td>\n",
       "      <td>8.385539</td>\n",
       "      <td>57.875177</td>\n",
       "      <td>389.862461</td>\n",
       "    </tr>\n",
       "    <tr>\n",
       "      <th>min</th>\n",
       "      <td>6.065143e+08</td>\n",
       "      <td>0.000000</td>\n",
       "      <td>0.000000</td>\n",
       "      <td>1.000000</td>\n",
       "      <td>0.000000</td>\n",
       "    </tr>\n",
       "    <tr>\n",
       "      <th>25%</th>\n",
       "      <td>1.052707e+09</td>\n",
       "      <td>3.000000</td>\n",
       "      <td>7.000000</td>\n",
       "      <td>36.000000</td>\n",
       "      <td>31.000000</td>\n",
       "    </tr>\n",
       "    <tr>\n",
       "      <th>50%</th>\n",
       "      <td>1.559256e+09</td>\n",
       "      <td>3.000000</td>\n",
       "      <td>12.000000</td>\n",
       "      <td>62.000000</td>\n",
       "      <td>84.000000</td>\n",
       "    </tr>\n",
       "    <tr>\n",
       "      <th>75%</th>\n",
       "      <td>2.295682e+09</td>\n",
       "      <td>4.000000</td>\n",
       "      <td>16.000000</td>\n",
       "      <td>83.000000</td>\n",
       "      <td>198.000000</td>\n",
       "    </tr>\n",
       "    <tr>\n",
       "      <th>max</th>\n",
       "      <td>3.217953e+09</td>\n",
       "      <td>12.000000</td>\n",
       "      <td>103.000000</td>\n",
       "      <td>737.000000</td>\n",
       "      <td>4042.000000</td>\n",
       "    </tr>\n",
       "  </tbody>\n",
       "</table>\n",
       "</div>"
      ],
      "text/plain": [
       "                 id  average_speed_ms  distance_km  elapsed_time_min  \\\n",
       "count  1.705000e+03       1705.000000  1705.000000       1705.000000   \n",
       "mean   1.701081e+09          3.329619    12.862170         70.074487   \n",
       "std    7.498481e+08          1.013626     8.385539         57.875177   \n",
       "min    6.065143e+08          0.000000     0.000000          1.000000   \n",
       "25%    1.052707e+09          3.000000     7.000000         36.000000   \n",
       "50%    1.559256e+09          3.000000    12.000000         62.000000   \n",
       "75%    2.295682e+09          4.000000    16.000000         83.000000   \n",
       "max    3.217953e+09         12.000000   103.000000        737.000000   \n",
       "\n",
       "       total_elevation_gain_m  \n",
       "count             1705.000000  \n",
       "mean               227.368915  \n",
       "std                389.862461  \n",
       "min                  0.000000  \n",
       "25%                 31.000000  \n",
       "50%                 84.000000  \n",
       "75%                198.000000  \n",
       "max               4042.000000  "
      ]
     },
     "execution_count": 5,
     "metadata": {},
     "output_type": "execute_result"
    }
   ],
   "source": [
    "df.describe()"
   ]
  },
  {
   "cell_type": "code",
   "execution_count": 6,
   "metadata": {},
   "outputs": [
    {
     "data": {
      "text/plain": [
       "(1705, 9)"
      ]
     },
     "execution_count": 6,
     "metadata": {},
     "output_type": "execute_result"
    }
   ],
   "source": [
    "df.shape"
   ]
  },
  {
   "cell_type": "code",
   "execution_count": 7,
   "metadata": {
    "scrolled": false
   },
   "outputs": [
    {
     "data": {
      "image/png": "[encoded data removed]",
      "text/plain": [
       "<Figure size 792x576 with 1 Axes>"
      ]
     },
     "metadata": {
      "needs_background": "light"
     },
     "output_type": "display_data"
    }
   ],
   "source": [
    "dimensions = (11, 8)\n",
    "fig, ax = plt.subplots(figsize=dimensions)\n",
    "sns.countplot(ax=ax, x=\"type\", data=df);"
   ]
  },
  {
   "cell_type": "markdown",
   "metadata": {},
   "source": [
    "### Lets focus on the running data since there isn't substantial data on other activities"
   ]
  },
  {
   "cell_type": "code",
   "execution_count": 8,
   "metadata": {},
   "outputs": [],
   "source": [
    "df = df[df.type == 'Run']"
   ]
  },
  {
   "cell_type": "code",
   "execution_count": 9,
   "metadata": {
    "scrolled": true
   },
   "outputs": [
    {
     "data": {
      "text/html": [
       "<div>\n",
       "<style scoped>\n",
       "    .dataframe tbody tr th:only-of-type {\n",
       "        vertical-align: middle;\n",
       "    }\n",
       "\n",
       "    .dataframe tbody tr th {\n",
       "        vertical-align: top;\n",
       "    }\n",
       "\n",
       "    .dataframe thead th {\n",
       "        text-align: right;\n",
       "    }\n",
       "</style>\n",
       "<table border=\"1\" class=\"dataframe\">\n",
       "  <thead>\n",
       "    <tr style=\"text-align: right;\">\n",
       "      <th></th>\n",
       "      <th>id</th>\n",
       "      <th>name</th>\n",
       "      <th>start_date</th>\n",
       "      <th>average_speed_ms</th>\n",
       "      <th>distance_km</th>\n",
       "      <th>elapsed_time_min</th>\n",
       "      <th>total_elevation_gain_m</th>\n",
       "      <th>type</th>\n",
       "      <th>manual_entry</th>\n",
       "    </tr>\n",
       "  </thead>\n",
       "  <tbody>\n",
       "    <tr>\n",
       "      <th>0</th>\n",
       "      <td>3217952831</td>\n",
       "      <td>I don't do it because it's easy, I do it becau...</td>\n",
       "      <td>2020-03-25 18:42:57</td>\n",
       "      <td>4.0</td>\n",
       "      <td>19.0</td>\n",
       "      <td>86</td>\n",
       "      <td>162.0</td>\n",
       "      <td>Run</td>\n",
       "      <td>False</td>\n",
       "    </tr>\n",
       "    <tr>\n",
       "      <th>1</th>\n",
       "      <td>3214321630</td>\n",
       "      <td>An alpha meerkat will piss on other meerkats t...</td>\n",
       "      <td>2020-03-24 18:14:42</td>\n",
       "      <td>4.0</td>\n",
       "      <td>20.0</td>\n",
       "      <td>85</td>\n",
       "      <td>81.0</td>\n",
       "      <td>Run</td>\n",
       "      <td>False</td>\n",
       "    </tr>\n",
       "    <tr>\n",
       "      <th>2</th>\n",
       "      <td>3211462218</td>\n",
       "      <td>If today was your last day...</td>\n",
       "      <td>2020-03-23 21:26:55</td>\n",
       "      <td>4.0</td>\n",
       "      <td>17.0</td>\n",
       "      <td>78</td>\n",
       "      <td>75.0</td>\n",
       "      <td>Run</td>\n",
       "      <td>False</td>\n",
       "    </tr>\n",
       "    <tr>\n",
       "      <th>3</th>\n",
       "      <td>3208333245</td>\n",
       "      <td>\"on your left\" *ignored* rinse and repeat</td>\n",
       "      <td>2020-03-22 18:17:14</td>\n",
       "      <td>2.0</td>\n",
       "      <td>8.0</td>\n",
       "      <td>73</td>\n",
       "      <td>975.0</td>\n",
       "      <td>Run</td>\n",
       "      <td>False</td>\n",
       "    </tr>\n",
       "    <tr>\n",
       "      <th>4</th>\n",
       "      <td>3204919571</td>\n",
       "      <td>With all this extra free time maybe people sho...</td>\n",
       "      <td>2020-03-21 20:31:33</td>\n",
       "      <td>4.0</td>\n",
       "      <td>12.0</td>\n",
       "      <td>55</td>\n",
       "      <td>47.0</td>\n",
       "      <td>Run</td>\n",
       "      <td>False</td>\n",
       "    </tr>\n",
       "    <tr>\n",
       "      <th>...</th>\n",
       "      <td>...</td>\n",
       "      <td>...</td>\n",
       "      <td>...</td>\n",
       "      <td>...</td>\n",
       "      <td>...</td>\n",
       "      <td>...</td>\n",
       "      <td>...</td>\n",
       "      <td>...</td>\n",
       "      <td>...</td>\n",
       "    </tr>\n",
       "    <tr>\n",
       "      <th>1699</th>\n",
       "      <td>607726601</td>\n",
       "      <td>Lunch Run</td>\n",
       "      <td>2016-05-22 20:00:23</td>\n",
       "      <td>3.0</td>\n",
       "      <td>14.0</td>\n",
       "      <td>65</td>\n",
       "      <td>336.0</td>\n",
       "      <td>Run</td>\n",
       "      <td>False</td>\n",
       "    </tr>\n",
       "    <tr>\n",
       "      <th>1700</th>\n",
       "      <td>607726595</td>\n",
       "      <td>Morning Run</td>\n",
       "      <td>2016-05-20 18:15:13</td>\n",
       "      <td>3.0</td>\n",
       "      <td>24.0</td>\n",
       "      <td>135</td>\n",
       "      <td>235.0</td>\n",
       "      <td>Run</td>\n",
       "      <td>False</td>\n",
       "    </tr>\n",
       "    <tr>\n",
       "      <th>1701</th>\n",
       "      <td>607726584</td>\n",
       "      <td>Afternoon Run</td>\n",
       "      <td>2016-05-18 21:21:11</td>\n",
       "      <td>4.0</td>\n",
       "      <td>5.0</td>\n",
       "      <td>21</td>\n",
       "      <td>84.0</td>\n",
       "      <td>Run</td>\n",
       "      <td>False</td>\n",
       "    </tr>\n",
       "    <tr>\n",
       "      <th>1702</th>\n",
       "      <td>607726597</td>\n",
       "      <td>Lunch Run</td>\n",
       "      <td>2016-05-16 20:42:08</td>\n",
       "      <td>4.0</td>\n",
       "      <td>13.0</td>\n",
       "      <td>58</td>\n",
       "      <td>170.0</td>\n",
       "      <td>Run</td>\n",
       "      <td>False</td>\n",
       "    </tr>\n",
       "    <tr>\n",
       "      <th>1704</th>\n",
       "      <td>607726565</td>\n",
       "      <td>Evening Run</td>\n",
       "      <td>2016-05-12 03:44:17</td>\n",
       "      <td>4.0</td>\n",
       "      <td>13.0</td>\n",
       "      <td>59</td>\n",
       "      <td>175.0</td>\n",
       "      <td>Run</td>\n",
       "      <td>False</td>\n",
       "    </tr>\n",
       "  </tbody>\n",
       "</table>\n",
       "<p>1642 rows × 9 columns</p>\n",
       "</div>"
      ],
      "text/plain": [
       "              id                                               name  \\\n",
       "0     3217952831  I don't do it because it's easy, I do it becau...   \n",
       "1     3214321630  An alpha meerkat will piss on other meerkats t...   \n",
       "2     3211462218                      If today was your last day...   \n",
       "3     3208333245          \"on your left\" *ignored* rinse and repeat   \n",
       "4     3204919571  With all this extra free time maybe people sho...   \n",
       "...          ...                                                ...   \n",
       "1699   607726601                                          Lunch Run   \n",
       "1700   607726595                                        Morning Run   \n",
       "1701   607726584                                      Afternoon Run   \n",
       "1702   607726597                                          Lunch Run   \n",
       "1704   607726565                                        Evening Run   \n",
       "\n",
       "              start_date  average_speed_ms  distance_km  elapsed_time_min  \\\n",
       "0    2020-03-25 18:42:57               4.0         19.0                86   \n",
       "1    2020-03-24 18:14:42               4.0         20.0                85   \n",
       "2    2020-03-23 21:26:55               4.0         17.0                78   \n",
       "3    2020-03-22 18:17:14               2.0          8.0                73   \n",
       "4    2020-03-21 20:31:33               4.0         12.0                55   \n",
       "...                  ...               ...          ...               ...   \n",
       "1699 2016-05-22 20:00:23               3.0         14.0                65   \n",
       "1700 2016-05-20 18:15:13               3.0         24.0               135   \n",
       "1701 2016-05-18 21:21:11               4.0          5.0                21   \n",
       "1702 2016-05-16 20:42:08               4.0         13.0                58   \n",
       "1704 2016-05-12 03:44:17               4.0         13.0                59   \n",
       "\n",
       "      total_elevation_gain_m type  manual_entry  \n",
       "0                      162.0  Run         False  \n",
       "1                       81.0  Run         False  \n",
       "2                       75.0  Run         False  \n",
       "3                      975.0  Run         False  \n",
       "4                       47.0  Run         False  \n",
       "...                      ...  ...           ...  \n",
       "1699                   336.0  Run         False  \n",
       "1700                   235.0  Run         False  \n",
       "1701                    84.0  Run         False  \n",
       "1702                   170.0  Run         False  \n",
       "1704                   175.0  Run         False  \n",
       "\n",
       "[1642 rows x 9 columns]"
      ]
     },
     "execution_count": 9,
     "metadata": {},
     "output_type": "execute_result"
    }
   ],
   "source": [
    "df"
   ]
  },
  {
   "cell_type": "markdown",
   "metadata": {},
   "source": [
    "## When do you run?"
   ]
  },
  {
   "cell_type": "markdown",
   "metadata": {},
   "source": [
    "### By Year"
   ]
  },
  {
   "cell_type": "markdown",
   "metadata": {},
   "source": [
    "As we can see it looks like the most activities were recorded in 2018"
   ]
  },
  {
   "cell_type": "code",
   "execution_count": 10,
   "metadata": {},
   "outputs": [
    {
     "name": "stderr",
     "output_type": "stream",
     "text": [
      "/usr/local/lib/python3.7/site-packages/ipykernel_launcher.py:1: SettingWithCopyWarning: \n",
      "A value is trying to be set on a copy of a slice from a DataFrame.\n",
      "Try using .loc[row_indexer,col_indexer] = value instead\n",
      "\n",
      "See the caveats in the documentation: https://pandas.pydata.org/pandas-docs/stable/user_guide/indexing.html#returning-a-view-versus-a-copy\n",
      "  \"\"\"Entry point for launching an IPython kernel.\n"
     ]
    },
    {
     "data": {
      "text/plain": [
       "<matplotlib.axes._subplots.AxesSubplot at 0x12c4f0a50>"
      ]
     },
     "execution_count": 10,
     "metadata": {},
     "output_type": "execute_result"
    },
    {
     "data": {
      "image/png": "[encoded data removed]",
      "text/plain": [
       "<Figure size 432x288 with 1 Axes>"
      ]
     },
     "metadata": {
      "needs_background": "light"
     },
     "output_type": "display_data"
    }
   ],
   "source": [
    "df['year'] = df['start_date'].dt.year\n",
    "sns.countplot(x=\"year\", data=df)"
   ]
  },
  {
   "cell_type": "markdown",
   "metadata": {},
   "source": [
    "but number of activities doesnt tell the whole story if we look at the overall time spent running has increased almost every year"
   ]
  },
  {
   "cell_type": "code",
   "execution_count": 11,
   "metadata": {},
   "outputs": [
    {
     "data": {
      "image/png": "[encoded data removed]",
      "text/plain": [
       "<Figure size 432x288 with 1 Axes>"
      ]
     },
     "metadata": {
      "needs_background": "light"
     },
     "output_type": "display_data"
    }
   ],
   "source": [
    "ax = sns.barplot(x=\"year\", y=\"elapsed_time_min\", estimator =sum, data=df)"
   ]
  },
  {
   "cell_type": "markdown",
   "metadata": {},
   "source": [
    "We can see that years have stayed fairly consistent and that 2020 looks like it is on track to be the best year yet"
   ]
  },
  {
   "cell_type": "code",
   "execution_count": 12,
   "metadata": {},
   "outputs": [
    {
     "data": {
      "image/png": "[encoded data removed]",
      "text/plain": [
       "<Figure size 432x288 with 1 Axes>"
      ]
     },
     "metadata": {
      "needs_background": "light"
     },
     "output_type": "display_data"
    }
   ],
   "source": [
    "cumulative_df = df[['elapsed_time_min', 'start_date', 'year']].copy()\n",
    "cumulative_df = cumulative_df.sort_values(by=['start_date'])\n",
    "cumulative_df['cum_elapsed_time'] = cumulative_df.groupby(['year'])['elapsed_time_min'].apply(lambda x: x.cumsum())\n",
    "cumulative_df['month'] = cumulative_df['start_date'].dt.month\n",
    "cumulative_df['start_date'] = cumulative_df['start_date'].map(lambda t: t.replace(year=2000))\n",
    "ax = sns.lineplot(x=\"start_date\", y=\"cum_elapsed_time\", hue = \"year\", data=cumulative_df)"
   ]
  },
  {
   "cell_type": "markdown",
   "metadata": {},
   "source": [
    "We can also see that the average run times seem to have increased as well"
   ]
  },
  {
   "cell_type": "code",
   "execution_count": 13,
   "metadata": {},
   "outputs": [
    {
     "data": {
      "image/png": "[encoded data removed]",
      "text/plain": [
       "<Figure size 432x288 with 1 Axes>"
      ]
     },
     "metadata": {
      "needs_background": "light"
     },
     "output_type": "display_data"
    }
   ],
   "source": [
    "ax = sns.barplot(x=\"year\", y=\"elapsed_time_min\", data=df)"
   ]
  },
  {
   "cell_type": "code",
   "execution_count": 14,
   "metadata": {},
   "outputs": [
    {
     "data": {
      "image/png": "[encoded data removed]",
      "text/plain": [
       "<Figure size 432x288 with 1 Axes>"
      ]
     },
     "metadata": {
      "needs_background": "light"
     },
     "output_type": "display_data"
    }
   ],
   "source": [
    "ax = sns.barplot(x=\"year\", y=\"elapsed_time_min\", data=df)"
   ]
  },
  {
   "cell_type": "code",
   "execution_count": 15,
   "metadata": {},
   "outputs": [],
   "source": [
    "#df['start_date'] = df['start_date'].dt.date"
   ]
  },
  {
   "cell_type": "code",
   "execution_count": 16,
   "metadata": {},
   "outputs": [],
   "source": [
    "#df"
   ]
  },
  {
   "cell_type": "markdown",
   "metadata": {},
   "source": [
    "Combine activity time for days with more than one run"
   ]
  },
  {
   "cell_type": "code",
   "execution_count": 22,
   "metadata": {},
   "outputs": [
    {
     "name": "stderr",
     "output_type": "stream",
     "text": [
      "/usr/local/lib/python3.7/site-packages/ipykernel_launcher.py:2: SettingWithCopyWarning: \n",
      "A value is trying to be set on a copy of a slice from a DataFrame.\n",
      "Try using .loc[row_indexer,col_indexer] = value instead\n",
      "\n",
      "See the caveats in the documentation: https://pandas.pydata.org/pandas-docs/stable/user_guide/indexing.html#returning-a-view-versus-a-copy\n",
      "  \n",
      "/usr/local/lib/python3.7/site-packages/ipykernel_launcher.py:4: SettingWithCopyWarning: \n",
      "A value is trying to be set on a copy of a slice from a DataFrame.\n",
      "Try using .loc[row_indexer,col_indexer] = value instead\n",
      "\n",
      "See the caveats in the documentation: https://pandas.pydata.org/pandas-docs/stable/user_guide/indexing.html#returning-a-view-versus-a-copy\n",
      "  after removing the cwd from sys.path.\n",
      "/usr/local/lib/python3.7/site-packages/ipykernel_launcher.py:5: SettingWithCopyWarning: \n",
      "A value is trying to be set on a copy of a slice from a DataFrame.\n",
      "Try using .loc[row_indexer,col_indexer] = value instead\n",
      "\n",
      "See the caveats in the documentation: https://pandas.pydata.org/pandas-docs/stable/user_guide/indexing.html#returning-a-view-versus-a-copy\n",
      "  \"\"\"\n"
     ]
    }
   ],
   "source": [
    "heat_map = df[['start_date', 'elapsed_time_min']]\n",
    "heat_map['start_date'] = heat_map['start_date'].dt.date\n",
    "heat_map.groupby(['start_date']).sum()\n",
    "heat_map['weekday'] = df['start_date'].dt.dayofweek\n",
    "heat_map['month'] = df['start_date'].dt.month\n",
    "del heat_map['start_date']\n",
    "heat_map = heat_map.sort_values(by=['month', 'weekday'])"
   ]
  },
  {
   "cell_type": "markdown",
   "metadata": {},
   "source": [
    "Add weekday and month columns to make it easier to input into the heatmap"
   ]
  },
  {
   "cell_type": "code",
   "execution_count": 19,
   "metadata": {
    "scrolled": true
   },
   "outputs": [],
   "source": [
    "heat_map = heat_map.pivot_table('elapsed_time_min', 'month', 'weekday')"
   ]
  },
  {
   "cell_type": "code",
   "execution_count": 20,
   "metadata": {},
   "outputs": [],
   "source": [
    "heat_map = heat_map.rename(lambda x: calendar.month_abbr[x])\n",
    "heat_map = heat_map.rename(columns = lambda x: calendar.day_abbr[x])"
   ]
  },
  {
   "cell_type": "code",
   "execution_count": 21,
   "metadata": {},
   "outputs": [
    {
     "data": {
      "image/png": "[encoded data removed]",
      "text/plain": [
       "<Figure size 432x288 with 2 Axes>"
      ]
     },
     "metadata": {
      "needs_background": "light"
     },
     "output_type": "display_data"
    }
   ],
   "source": [
    "ax = sns.heatmap(heat_map)"
   ]
  },
  {
   "cell_type": "code",
   "execution_count": null,
   "metadata": {},
   "outputs": [],
   "source": [
    "bins = [0, , 18, 35, 65, np.inf]\n",
    "names = ['<2', '2-18', '18-35', '35-65', '65+']\n",
    "\n",
    "df['AgeRange'] = pd.cut(df['Age'], bins, labels=names)\n"
   ]
  },
  {
   "cell_type": "code",
   "execution_count": 9,
   "metadata": {},
   "outputs": [
    {
     "data": {
      "application/vnd.jupyter.widget-view+json": {
       "model_id": "16f67eee8b60440f879c8d31c74c8711",
       "version_major": 2,
       "version_minor": 0
      },
      "text/plain": [
       "Dropdown(description='x axis:', options=('elapsed_time_min', 'distance_km', 'total_elevation_gain_m', 'average…"
      ]
     },
     "metadata": {},
     "output_type": "display_data"
    }
   ],
   "source": [
    "x = widgets.Dropdown(\n",
    "    options=[\"elapsed_time_min\", \"distance_km\", \"total_elevation_gain_m\", \"average_speed_ms\"],\n",
    "    value='elapsed_time_min',\n",
    "    description='x axis:',\n",
    "    disabled=False,\n",
    ")\n",
    "x"
   ]
  },
  {
   "cell_type": "code",
   "execution_count": 10,
   "metadata": {},
   "outputs": [
    {
     "data": {
      "application/vnd.jupyter.widget-view+json": {
       "model_id": "0c2e34db3c49429491f4f8e35f1336e8",
       "version_major": 2,
       "version_minor": 0
      },
      "text/plain": [
       "Dropdown(description='y axis:', index=1, options=('elapsed_time_min', 'distance_km', 'total_elevation_gain_m',…"
      ]
     },
     "metadata": {},
     "output_type": "display_data"
    }
   ],
   "source": [
    "y = widgets.Dropdown(\n",
    "    options=[\"elapsed_time_min\", \"distance_km\", \"total_elevation_gain_m\", \"average_speed_ms\"],\n",
    "    value='distance_km',\n",
    "    description='y axis:',\n",
    "    disabled=False,\n",
    ")\n",
    "y"
   ]
  },
  {
   "cell_type": "code",
   "execution_count": 11,
   "metadata": {},
   "outputs": [
    {
     "data": {
      "application/vnd.jupyter.widget-view+json": {
       "model_id": "ba06046f0dda40a2990133c6ac957aa5",
       "version_major": 2,
       "version_minor": 0
      },
      "text/plain": [
       "Dropdown(description='year start:', options=('2016', '2017', '2018', '2019', '2020'), value='2016')"
      ]
     },
     "metadata": {},
     "output_type": "display_data"
    }
   ],
   "source": [
    "year_start = widgets.Dropdown(\n",
    "    options=[\"2016\", \"2017\", \"2018\", \"2019\", \"2020\"],\n",
    "    value='2016',\n",
    "    description='year start:',\n",
    "    disabled=False,\n",
    ")\n",
    "year_start"
   ]
  },
  {
   "cell_type": "code",
   "execution_count": null,
   "metadata": {},
   "outputs": [],
   "source": []
  },
  {
   "cell_type": "code",
   "execution_count": 12,
   "metadata": {},
   "outputs": [
    {
     "data": {
      "application/vnd.jupyter.widget-view+json": {
       "model_id": "d576306e56cd480dbaf04532d69ef682",
       "version_major": 2,
       "version_minor": 0
      },
      "text/plain": [
       "Dropdown(description='year end:', index=4, options=('2016', '2017', '2018', '2019', '2020'), value='2020')"
      ]
     },
     "metadata": {},
     "output_type": "display_data"
    }
   ],
   "source": [
    "year_end = widgets.Dropdown(\n",
    "    options=[\"2016\", \"2017\", \"2018\", \"2019\", \"2020\"],\n",
    "    value='2020',\n",
    "    description='year end:',\n",
    "    disabled=False,\n",
    ")\n",
    "year_end"
   ]
  },
  {
   "cell_type": "code",
   "execution_count": 13,
   "metadata": {},
   "outputs": [
    {
     "data": {
      "image/png": "[encoded data removed]",
      "text/plain": [
       "<Figure size 432x288 with 1 Axes>"
      ]
     },
     "metadata": {
      "needs_background": "light"
     },
     "output_type": "display_data"
    }
   ],
   "source": [
    "sns.scatterplot(x=x.value, y=y.value, alpha = .3, data=df.query(f'start_date >= {year_start.value} & start_date <= {year_end.value}'));"
   ]
  },
  {
   "cell_type": "code",
   "execution_count": 15,
   "metadata": {},
   "outputs": [
    {
     "name": "stderr",
     "output_type": "stream",
     "text": [
      "/usr/local/lib/python3.7/site-packages/ipykernel_launcher.py:1: SettingWithCopyWarning: \n",
      "A value is trying to be set on a copy of a slice from a DataFrame.\n",
      "Try using .loc[row_indexer,col_indexer] = value instead\n",
      "\n",
      "See the caveats in the documentation: https://pandas.pydata.org/pandas-docs/stable/user_guide/indexing.html#returning-a-view-versus-a-copy\n",
      "  \"\"\"Entry point for launching an IPython kernel.\n"
     ]
    },
    {
     "data": {
      "text/plain": [
       "<seaborn.axisgrid.FacetGrid at 0x127436550>"
      ]
     },
     "execution_count": 15,
     "metadata": {},
     "output_type": "execute_result"
    },
    {
     "data": {
      "image/png": "[encoded data removed]",
      "text/plain": [
       "<Figure size 493.375x432 with 1 Axes>"
      ]
     },
     "metadata": {
      "needs_background": "light"
     },
     "output_type": "display_data"
    }
   ],
   "source": [
    "df['year'] = df['start_date'].dt.year\n",
    "sns.relplot(x=\"elapsed_time_min\", y=\"distance_km\", hue= \"year\", alpha=.5, palette=\"muted\",\n",
    "            height=6, data=df)"
   ]
  }
 ],
 "metadata": {
  "kernelspec": {
   "display_name": "Python 3",
   "language": "python",
   "name": "python3"
  },
  "language_info": {
   "codemirror_mode": {
    "name": "ipython",
    "version": 3
   },
   "file_extension": ".py",
   "mimetype": "text/x-python",
   "name": "python",
   "nbconvert_exporter": "python",
   "pygments_lexer": "ipython3",
   "version": "3.7.7"
  }
 },
 "nbformat": 4,
 "nbformat_minor": 2
}
